{
 "cells": [
  {
   "cell_type": "code",
   "execution_count": 1,
   "metadata": {
    "id": "4WUXdNc8G3FQ"
   },
   "outputs": [],
   "source": [
    "# Das Paket ggf. installieren\n",
    "#install.packages(\"rtweet\")\n",
    "\n",
    "# Das Pakt laden\n",
    "library(rtweet)"
   ]
  },
  {
   "cell_type": "code",
   "execution_count": 2,
   "metadata": {
    "id": "ZAMf_tQd5Dvs"
   },
   "outputs": [],
   "source": [
    "# Twitter Token erstellen (enthält ungültige Beispieldaten)\n",
    "#twitter_token <- create_token(\n",
    "#    app             = \"Name meiner Twitter APP\",\n",
    "#    consumer_key    = \"sd7Z48...\",\n",
    "#    consumer_secret = \"M96fc3...\",\n",
    "#    access_token    = \"251475...\",\n",
    "#    access_secret   = \"bgtrfS...\")"
   ]
  },
  {
   "cell_type": "code",
   "execution_count": 3,
   "metadata": {
    "id": "rSIlhfiOBPr0"
   },
   "outputs": [],
   "source": [
    "# Tweets über eine Stichwortsuche herunterladen\n",
    "#df_tweets <- search_tweets(\"BLM\", n = 1000, lang = \"de\")\n",
    "\n",
    "# Den Datensatz anzeigen\n",
    "#head(df_tweets, 5)"
   ]
  },
  {
   "cell_type": "code",
   "execution_count": 4,
   "metadata": {
    "id": "dtGCewumgrRT"
   },
   "outputs": [],
   "source": [
    "# Code für Aufgabe 3\n",
    "#df_users <- search_users(\"#Kommunikationswissenschaft\", n = 25)\n",
    "#head(df_users)"
   ]
  },
  {
   "cell_type": "code",
   "execution_count": 5,
   "metadata": {
    "id": "p_K9zIWQk483"
   },
   "outputs": [],
   "source": [
    "# Ihr Code für Aufgabe 4a\n",
    "#df_top10_trump <- \"\"\n",
    "\n",
    "#head(df_top10_trump )"
   ]
  },
  {
   "cell_type": "code",
   "execution_count": 6,
   "metadata": {
    "id": "L57O92KFkV6l"
   },
   "outputs": [],
   "source": [
    "# Ihr Code für Aufgabe 4b\n",
    "#df_trump_following <- \"\"\n",
    "\n",
    "#head(df_trump_following)"
   ]
  }
 ],
 "metadata": {
  "kernelspec": {
   "display_name": "R",
   "language": "R",
   "name": "ir"
  },
  "language_info": {
   "codemirror_mode": "r",
   "file_extension": ".r",
   "mimetype": "text/x-r-source",
   "name": "R",
   "pygments_lexer": "r",
   "version": "4.0.3"
  },
  "toc": {
   "base_numbering": 1,
   "nav_menu": {},
   "number_sections": true
  }
 },
 "nbformat": 4,
 "nbformat_minor": 1
}