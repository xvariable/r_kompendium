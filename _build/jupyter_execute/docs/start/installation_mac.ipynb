{
 "cells": [
  {
   "cell_type": "markdown",
   "metadata": {},
   "source": [
    "# Installationsanleitung MacOS\n",
    "\n",
    "Wie auf den vorhergehenden Seiten beschrieben, handelt es sich bei R und RStudio um zwei unterschiedliche Dinge:\n",
    "1. R, die Programmiersprache\n",
    "2. RStudio, die Entwicklungsumgebung\n",
    "\n",
    "Zur Installation müssen Sie deshalb auch **beides nacheinander** installieren. "
   ]
  },
  {
   "cell_type": "markdown",
   "metadata": {},
   "source": [
    "## Erster Schritt: R\n",
    "Die aktuelle Version von R können Sie über das CRAN downloaden. Die Webadresse lautet:  [https://cran.r-project.org/](https://cran.r-project.org). Gleich auf der Startseite finden Sie die Links zu den jeweils aktuellsten R-Versionen:\n",
    "\n",
    "<img src=\"../../_static/img/screenshot_cran_homepage.png\" alt=\"Screenshot CRAN Homepage\" width=\"600px\" style=\"border:1px solid grey; margin-right:550px;margin-bottom:25px\">\n",
    "\n",
    "Klicken Sie auf der [Homepage des CRAN](https://cran.r-project.org) auf \"Download R for (Mac) OSX\" und scrollen Sie bis zu den \"Latest Releases\". Unter dieser Überschrift wird Ihnen die aktuellste \"stable\" Version von R angezeigt. \n",
    "\n",
    "Während diese Dokumentation geschrieben wurde war dies die Version 4.0.2, wie der nachfolgende Screenshot zeigt:\n",
    "\n",
    "<img src=\"../../_static/img/screenshot_cran_download_mac.png\" alt=\"Screenshot CRAN Homepage\" width=\"600px\" style=\"border:1px solid grey; margin-right:550px;margin-bottom:25px\">\n",
    "\n",
    "Rechtsklicken Sie auf die Version und laden Sie sie herunter.\n",
    "\n",
    "Doppelklicken Sie auf die heruntergeladene Datei und folgen Sie der Installationsanleitung."
   ]
  },
  {
   "cell_type": "markdown",
   "metadata": {},
   "source": [
    "<img src=\"../../_static/img/screenshot_install_mac.png\" alt=\"Screenshot CRAN Homepage\" width=\"300px\" style=\"border:1px solid grey; margin-right:550px\">"
   ]
  },
  {
   "cell_type": "markdown",
   "metadata": {},
   "source": [
    "## Zweiter Schritt: RStudio\n",
    "\n",
    "RStudio, die Entwicklungsumgebung für R können Sie unter [https://rstudio.com/products/rstudio/download/](https://rstudio.com/products/rstudio/download/) herunterladen.\n",
    "\n",
    "Wählen Sie die Version \"RStudio Desktop - Free\" und laden Sie die Datei herunter.\n",
    "\n",
    "<img src=\"../../_static/img/screenshot_rstudio_free.png\" alt=\"Screenshot Download RStudio\" width=\"600px\" style=\"border:1px solid grey; margin-right:550px;margin-bottom:25px\">\n",
    "\n",
    "Nachdem der Download abgeschlossen ist, doppelklicken Sie die Datei und ziehen Sie sie in Ihre Applications.\n",
    "\n",
    "<img src=\"../../_static/img/screenshot_install_rstudio_mac.png\" alt=\"Screenshot Installation RStudio\" width=\"300px\" style=\"border:1px solid grey; margin-right:750px;margin-bottom:25px\">\n",
    "\n",
    "Nach der Installation können Sie das Programm RStudio öffnen. Es greift automatisch auf die zuvor installierte Version von R zu."
   ]
  }
 ],
 "metadata": {
  "jupytext": {
   "text_representation": {
    "extension": ".Rmd",
    "format_name": "rmarkdown",
    "format_version": "1.1",
    "jupytext_version": "1.1.1"
   }
  },
  "kernelspec": {
   "display_name": "R",
   "language": "R",
   "name": "ir"
  },
  "language_info": {
   "codemirror_mode": "r",
   "file_extension": ".r",
   "mimetype": "text/x-r-source",
   "name": "R",
   "pygments_lexer": "r",
   "version": "4.0.3"
  }
 },
 "nbformat": 4,
 "nbformat_minor": 4
}