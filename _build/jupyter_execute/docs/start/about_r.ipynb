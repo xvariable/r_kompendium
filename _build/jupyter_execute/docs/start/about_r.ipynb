{
 "cells": [
  {
   "cell_type": "markdown",
   "metadata": {},
   "source": [
    "# Einführung in R\n",
    "\n",
    "R ist eine Programmiersprache mit einem speziellen Fokus auf der Anwendung im Bereich Statistik und \n",
    "Data-Science. In diesem Abschnitt werde ich kurz die Hintergründe und die Entstehungsgeschichte von\n",
    "R erläutern und ich begründe, warum wir in der Statistik- und Datenanalyse-Ausbildung auf \n",
    "R setzen. \n",
    "\n",
    "Die simpelste Antwort auf die Frage \"Was ist eigentlich R?\" lautet: \"R ist ein Dialekt von S.\" \n",
    "Diese Antwort ist natürlich nicht sehr befriedigend und führt direkt zur Anschlussfrage \n",
    "\"Und was ist S?\" Tatsächlich ist es interessant, die Entstehungsgeschichte von S und R zu kennen und \n",
    "etwas übr die zugrundeliegende Philosophie der Sprachen zu erfahren. \n",
    "Dadurch wird deutlich, worin die Unterschiede zu anderen Programmiersprachen liegen, warum\n",
    "R von Informatikern und Programmierern häufig als \"etwas seltsam\" empfunden wird und weshalb R gerade \n",
    "für die Datenanalyse in der Kommunikationswissenschaft besonders gut geeignet ist.\n",
    "Deshalb hole ich an dieser Stelle etwas weiter aus."
   ]
  },
  {
   "cell_type": "markdown",
   "metadata": {},
   "source": [
    "## S ist die Mutter von R\n",
    "\n",
    "<img src=\"https://upload.wikimedia.org/wikipedia/en/e/e8/Bell_Labs_logo%2C_1984-1995.png\" alt=\"Logo Bell Laboratories\"  style=\"float: right;margin-left:15px;margin-bottom:15px\">\n",
    "Die Programmiersprache S hat ihre Wurzeln in den 1970er Jahren und wurde von John Chambers, \n",
    "Allan R. Wilks und Kollegen als internes Tool in den \"Bell Telephone Laboratories\" entwickelt.\n",
    "Die Bell Labs waren damals Teil der Telefongesellschaft AT&T und ein bedeutendes Forschungszentrum. \n",
    "Forscher der Bel Labs haben beispielsweise mehrere Nobelpreise und Turing-Awards gewonnen. \n",
    "Heute gehören die Bell Labs zu Nokia.\n",
    "\n",
    "Mitte der 1960er Jahre war die Rechentechnik soweit, dass die Bel Labs gemeinsam mit anderen \n",
    "Forschungseinrichtungen an einem Projekt zur Schaffung eines Mehrprozess- und Mehrbenutzerbetriebssystems arbeiteten (\"Multics System\", Vorläufersystem von Unix). \n",
    "Die Möglichkeit Datenanalyse-Forschung auf Großrechnern ausführen zu können war aus Sicht der Bel Laboratories sehr relevant und obwohl sie sich später nicht mehr an der Schaffung des Multics-Systems beteiligten setzten sie die Entwicklung einer Statistiksprache fort.\n",
    "Zu dieser Zeit war die Idee einer Programmiersprache für Statistik völlig neu. \n",
    "Für statistische Berechnungen war es bisher nötig, den Code direkt in FORTRAN (steht für FORmula TRANslation, das war die damals dazu genutzte Sprache) zu schreiben und zwar immer wieder aufs Neue, angepasst an die jeweilige Fragestellung.\n",
    "\n",
    "Die erste Version von S wurde 1976 nur intern veröffentlicht. In den Folgejahren fanden einige \n",
    "Veränderungen an der Sprache statt, z.B. wurde sie nun mit C als Basis und als objektorientierte \n",
    "Programmiersprache weiterentwickelt. In den 1980er Jahren vergab AT&T erstmals Lizenzen von S für \n",
    "kommerzielle Zwecke und für Bildungseinrichtungen. \n",
    "Nach der Aufteilung von AT&T wurde S an das Unternehmen Statistical Science verkauft, welches eine kommerzielle Version von S entwickelte. \n",
    "Diese Implementierung ist auch heute noch unter dem Namen *S-Plus* verfügbar.\n",
    "Ihre Verbreitung ist aber sehr gering."
   ]
  },
  {
   "cell_type": "markdown",
   "metadata": {},
   "source": [
    "## Die Philosophie von S\n",
    "\n",
    "Die neue Sprache S sollten bei der explorativen Datenanalyse und der Erstellung von Grafiken unterstützen \n",
    "und dabei schneller und möglichst flexibel sein. \n",
    "Chambers (2000) formuliert das Ziel von S so {cite}`Chambers_2000`: \n",
    "> “S is a programming language and environment for all kinds of computing involving data. \n",
    "> It has a simple goal: To turn ideas into software, quickly and faithfully”.\n",
    "\n",
    "Insbesondere die schnelle, explorative Übersetzung von Forschungsideen in Ergebnisse war wichtig, während statistische Analyse am Beginn noch nicht so sehr im Fokus stand.\n",
    "\n",
    "Zusätzlich zeichnet sich die Philosophie von S noch durch drei weitere Anforderungen aus, die \n",
    "während der Entwicklung an die Programmiersprache gestellt wurden (Chambers, 2020, S. 84:5 {cite}`Chambers_2020`):\n",
    "1. **Convenience:** Der Aufruf von statistischen Routinen sollte möglichst \"kompakt\" sein. Die Anwender sollten sich nicht mit den Details wie z.B. dem Datenmanagement beschäftigen müssen. Zudem sollte der Output graphische und formatierte Ausgaben enthalten.\n",
    "2. **Completeness:** Alle Zusammenfassungen, Modellierungen und Visualisierungen die in Fortran möglich \n",
    "waren, sollten auch in S möglich sein.\n",
    "3. **Extensibility:** Bereits damals verstanden sich die Entwickler von S als Teil einer Datenanalyse- und \n",
    "Forschungs-Community. \n",
    "Deshalb sollte die Sprache grundsätzlich erweiterbar sein. Neue Techniken und Methoden sollten stets in S integrierbar sein."
   ]
  },
  {
   "cell_type": "markdown",
   "metadata": {},
   "source": [
    "## Die Entwicklung von R\n",
    "\n",
    "Parallel zur Entstehung von S-Plus entwickelten die Statistiker Ross Ihaka und Robert Gentleman \n",
    "an der Universität Auckland R nach dem Vorbild von S. Die Bezeichnung *R* nimmt zum einen Bezug auf das Vorbild und geht zum anderen auf die Vornamen der beiden Entwickler zurück.\n",
    "Neben der Beseitigung einiger Mängel (z.B. bei der Speicherverwaltung) war es das Ziel der beiden Statistiker neue Verfahren schneller in die Programmiersprache implementieren zu können, ohne dabei auf das Entwicklerteam von S angewiesen zu sein. \n",
    "Zudem lies sich der Quelltext gut für Lehrzwecke einsetzen. \n",
    "\n",
    "Nachdem Ithaka und Gentleman R zunächst nur in der Wissenschafts-Community verbreiteten und dafür \n",
    "positives Feedback erhielten, entschieden Sie sich 1995 zur Veröffentlichung der Sprache unter einer \n",
    "*General Public License* (GNU). \n",
    "Das Basis-Paket von R (base R) wird seitdem on einem etwa 20-köpfigen Kernentwicklerteam um Ross Ihaka und Robert \n",
    "Gentleman weiterentwickelt (*R Core Team*). \n",
    "Der gemeinnützige Verein *R Foundation for Statistical Computing* mit Sitz in Wien verwaltet das Urheberrecht an R \n",
    "und dient dem Zweck, die Verbreitung der Sprache zu fördern. \n",
    "Dieses Bemühen kann als sehr erfolgreich beurteilt werden.\n",
    "Trotz des eingeschränkten Anwendungsfokus ist R heute laut TIOBE-Index eine der beliebtesten Programmiersprachen überhaupt. Im Oktober 2020 belegt R Platz 9 des Rankings.\n",
    "\n",
    "Aktuelles R-Logo:\n",
    "\n",
    "<img src=\"../../_static/img/rlogo.svg\" alt=\"R Logo\" style=\"width:150px\">\n",
    "\n",
    "## Weiterführende Links\n",
    "- [Wikipedia-Artikel zu R](https://de.wikipedia.org/wiki/R_(Programmiersprache))\n",
    "- [CRAN (Comprehensive R Archive Network)](https://cran.r-project.org/)\n",
    "- [R Foundation](https://www.r-project.org/foundation/)\n",
    "- [TIOBE-Ranking](https://www.tiobe.com/tiobe-index/)\n",
    "\n",
    "## Literatur\n",
    "```{bibliography} ../../_bibliography/references.bib\n",
    ":filter: docname in docnames\n",
    ":style: plain\n",
    "```"
   ]
  }
 ],
 "metadata": {
  "jupytext": {
   "text_representation": {
    "extension": ".Rmd",
    "format_name": "rmarkdown",
    "format_version": "1.1",
    "jupytext_version": "1.1.1"
   }
  },
  "kernelspec": {
   "display_name": "R",
   "language": "R",
   "name": "ir"
  },
  "language_info": {
   "codemirror_mode": "r",
   "file_extension": ".r",
   "mimetype": "text/x-r-source",
   "name": "R",
   "pygments_lexer": "r",
   "version": "4.0.3"
  }
 },
 "nbformat": 4,
 "nbformat_minor": 4
}