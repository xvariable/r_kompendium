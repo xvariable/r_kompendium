{
 "cells": [
  {
   "cell_type": "markdown",
   "metadata": {},
   "source": [
    "# RStudio: Entwicklungsumgebung für R\n",
    "\n",
    "## Die R Konsole\n",
    "\n",
    "Wenn man sich R herunterläd und installiert, kann man die Sprache bereits ausführen. \n",
    "Nach einem Doppelklick auf das R-Icon öffnen sich die Konsole. \n",
    "In dem Fenster wird nach dem Öffnen direkt ein längerer in schwarz formatierter Text angezeigt.\n",
    "Er enthält einige Informationen über R, wie z.B. die Versionsnummer, einen Warnhinweis und ein paar grundlegende Befehle. \n",
    "\n",
    "Unter diesem schwarzem Text folgt ein lila-fabiges \">\" hinter dem in blau ein \"|\" blinkt.\n",
    "Dies bedeutet, das R nun bereit ist für die Eingabe von Befehlen. Nachdem ein Befehl eingegeben wurde kann man ihn mit Drücken der Eingabetaste (Enter) ausführen.\n",
    "\n",
    "Der folgenden Screenshot zeigt, wie ich drei Befehle eingegeben und ausgeführt habe:\n",
    "\n",
    "<img src=\"../_static/img/screenshot_rconsole.png\" alt=\"Screenshot R Konsole\" style=\"width:50%;border:1px solid grey; margin-right:550px;margin-bottom:25px\">\n",
    "\n",
    "1. Der Befehl `print()` nimmt eine Zeichenfolge und gibt sie in der Konsole aus, in diesem Fall die Zeichenfolge `\"Hello world!\"`. \n",
    "Dieser als \"Hello World-Programm\" bezeichnete Befehl ist ein häufig gewähltes erste Programmierbeispiel in der Einführungsliteratur für Programmiersprachen. Fun-Fact: Auch die Tradition des \"Hello world!\"-Programms stammt ursprünglich aus den Bel Laboratories.\n",
    "\n",
    "2. Im zweiten Befehl `2^8` habe ich R eine Berechnung durchführen lassen, nämlich 2 hoch 8. \n",
    "R liefert nach einem Druck auf Enter das Ergebnis 256 zurück.\n",
    "\n",
    "3. Im dritten Befehl sollte ebenfalls eine Berechnung durchgeführt werden `3+x`. \n",
    "Hier kommt jedoch kein Ergebnis zurück, sondern nur die Fehlermeldung \"Objekt 'x' nicht gefunden\". \n",
    "R kann die Berechnung nicht durchführen, weil es den Wert für ´x´ nicht kennt. \n",
    "Ich habe es bisher nicht definiert. \n",
    "\n",
    "Betrachtet man den Screenshot genauer fallen einige Eigenschaften der Formatierung auf:\n",
    "- Der selbstgeschriebene Text wird in blau dargestellt. So ist er leichter von den in schwarz dargestellten Ausgaben zu unterscheiden. Fehlermeldungen erscheinen in rot und sind damit besonders auffällig.\n",
    "- Vor jeder Ausgabe eines Ergebnisses findet sich eine `[1]`. Diese markiert, um das wievielte Element einer Ausgabe es sich handelt. \n",
    "Im obigen Beispiel enthält jede Ausgabe nur ein Element, aber Ausgaben können durchaus auch mehrere Teile haben oder sogar ineinander verschachtelte Elemente aufweisen.\n",
    "\n",
    "Die R Konsole bietet über die Buttons im Menü einige Funktionen und Einstellmöglichkeiten. \n",
    "Z.B. kann man dort die Farben für die Eingabe und die Fehlermeldung anpassen, neue R-Dokumente anlegen, drucken usw. Insgesamt sind die Möglichkeiten aber sehr begrenzt. \n",
    "\n",
    "Um richtig komfortabel mit R zu arbeiten, bietet es sich an auf eine Integrierte Entwicklungsumgebung (Integrated Development Environment, kurz IDE) zurückzugreifen.\n",
    "So eine IDE kann bspw. bei der Organisation von Dateien unterstützen, bietet Hilfe-Funktionen beim Coden, einen Überblick über die Objekte, die sich im Arbeitsspeicher befinden und vieles mehr.\n",
    "Die bekannteste und beliebteste IDE für R ist RStudio. \n",
    "Wie der Name schon vermuten lässt wurde RStudio speziell für die Arbeit mit R entwickelt. Es ist genau auf die Bedürfnisse von R-AnwenderInnen angepasst.\n",
    "\n",
    "Im folgenden Abschnitt stelle ich die Entwicklungsumgebung kurz vor, beschreibe einige Features und die Benutzeroberfläche."
   ]
  },
  {
   "cell_type": "markdown",
   "metadata": {},
   "source": [
    "## RStudio: Die IDE für R\n",
    "\n",
    "Die IDE RStudio ist seit 2011 auf dem Markt und wird von RStudio PBC entwickelt und vertrieben. \n",
    "Das Programm ist sowohl für Desktop-Rechner als auch für Server verfügbar und wird sowohl kostenlos als auch in einer kommerziellen Pro-Version vertrieben. \n",
    "Die Pro-Versionen unterscheiden sich vor allem dadurch, dass den Anwendern ein Priority-Support geboten wird.\n",
    "Seit Beginn 2020 firmiert RStudio als \"Public Benefit Corporation\" und hat sich damit dem Gemeinwohl verpflichtet.\n",
    "\n",
    "<img src=\"https://upload.wikimedia.org/wikipedia/commons/d/d0/RStudio_logo_flat.svg\" alt=\"Logo RStudio\" width=\"150px\" align=\"left\" style=\"border-right:15px solid white\"> Das Unternehmen RStudio ist Teil des *R Consotium*, eines Zusammenschlusses von Unternehmen, die R in großem Stil einsetzen oder für ihre Geschäftsmodelle nutzen (auch Microosoft, Google und Oracle gehören dazu). \n",
    "Gerade RStudio treibt sowohl die Verbreitung der Sprache R als auch ihre Weiterentwicklung und Standardisierung enorm voran und prägt damit ihre Ausgestaltung zusehens. Allen voran ist hier das \"Tidyverse\" zu nennen. Es handelt sich dabei um eine Gruppe von Paketen die von den RStudio-Programmierern um Hadley Wickham (Chief Scientist bei RStudio) entwickelt wurden und die dazu dienen R einheitlicher und verständlicher zu gestalten sowie die Sprache noch besser auf die Bedürfnisse moderner Datenanalyse anzupassen.[^1]\n",
    "[^1]:Obwohl diese Entwicklung viele Anhänger gefunden hat und enorm zur Popularität der Sprache beigetragen haben dürfte, sei erwähnt, das es auch Stimmen gibt, die diese Entwicklung kritisch betrachten {cite}`Matloff_2019` {cite}`McChesney_2020` ."
   ]
  },
  {
   "cell_type": "markdown",
   "metadata": {},
   "source": [
    "## RStudio-Cloud und Installation\n",
    "Wie oben erwähnt, gibt es sowohl eine Server- als auch eine Desktopversion von RStudio. \n",
    "Für den Zweck der Statistik-Ausbildung arbeiten wir hier am IJK mit einer Serverversion, nämlich der RStudio-Cloud.\n",
    "Dies hat die Vorteile, dass die Studierenden zunächst nichts auf ihren Rechnern installieren müssen und dass die Entwicklungsumgebung mit allen Übungsskripten bereits vorliegt. \n",
    "Sie können sich sehr leicht selbst eine eigene Version der Verwendeten Skripte erstellen und so an den Übungen teilnehmen. \n",
    "Der/die Dozierende kann sich Ihre Versionen ansehen und so bei Fehlern und Fragen leicht helfen.\n",
    "\n",
    "Obwohl die RStudio-Cloud im Rahmen der Statistikausbildung sehr praktisch sein wird, benötigen Sie (später) eine eigene Instanz von R und RStudio auf Ihrem persönlichen Rechner. Zum einen für den Zweck des Übens, zum anderen weil Sie es später zur Arbeit an eigenen (Studien-)Projekten benötigen werden.\n",
    "Die Anleitung zur Installation befindet sich auf den nächsten Seiten. \n",
    "Sie ist getrennt nach Windows und MacOS aufgeführt, da sich die Schritte die zur Installation nötig sind leicht unterscheiden."
   ]
  },
  {
   "cell_type": "markdown",
   "metadata": {},
   "source": [
    "## Die Benutzeroberfläche\n",
    "Die Benutzeroberfläche von RStudio gliedert sich in verschiedne Bereiche. Wenn Sie RStudio zum ersten Mal öffnen sieht sie in etwa so aus:\n",
    "\n",
    "<img src=\"../_static/img/screenshot_rstudio_without_script.png\" alt=\"Screenshot RStudio nach dem Öffnen\" style=\"border:1px solid grey;margin-bottom:25px\">"
   ]
  },
  {
   "cell_type": "markdown",
   "metadata": {},
   "source": [
    "Links finden Sie die bereits bekannte **R Console**. Hier werden die Ergebnisse von Berechnungen ausgegeben und man kann auch wie oben bereits beschreiben Befehle eingeben. Der linke Bereich enthält neben der Console noch weitere Tabs (\"Terminal\" und \"Jobs\"). Diese benötigen wir jedoch nicht. \n",
    "\n",
    "Der Bereich rechts ist zweigeteilt. Oben findet sich die **Environment**, zu deutsch Arbeitsumgebung. \n",
    "Hier werden die Objekte angezeigt, die während der aktuellen R-Session erzeugt wurden. Ein Objekt kann dabei alles mögliche sein, z.B. ein Datensatz oder das Ergebnis einer Berechnung. Im Moment ist die Arbeitsumgebung natürlich noch leer. Auch dieser obere rechte Bereich hat mit \"History\", \"Connections\" und \"Git\" weitere Tabs, die für uns zunächst nicht interessant sind.\n",
    "\n",
    "Im unteren rechten Bereich finden sich ebenfalls verschiedene Tabs, die wichtigsten werde ich nun kurz erläutern.\n",
    "\n",
    "Der erste heißt **Files**. Wenig überraschend findet sich dort ein Dateibrowser, in dem ihr Arbeitsverzeichnis und die sich darin befindlichen Dateien angezegt werden. \n",
    "Mit den Icons im Bereich können Sie durch ihr Filesystem navigieren. \n",
    "Wären in ihrem Arbeitsverzeichnis bereits Dateien abgelegt, könnten Sie diese durch Doppelklick auch direkt in RStudio öffnen.\n",
    "\n",
    "Im zweiten Tab **Plots** werden Grafiken, die Sie mit R erzeugt haben angezeigt. \n",
    "Der Tab **Viewer** dient ebenfalls der Ausgabe von in R erzeugten inhalten.\n",
    "\n",
    "Im Tab **Packages** sehen sie die R-Pakete, die auf Ihrem Rechner bereits installiert sind. \n",
    "Über den Button \"Install\" können Sie CRAN nach weiteren Paketen suchen und diese installieren. \n",
    "Um ein Paket in einer Session benutzen zu können muss es aber nicht nur installiert sein, es muss auch \"aktiviert\" bzw. geladen werden. Wie das genau geht behandeln wir später noch einmal im Detail. \n",
    "Im Tab Packeges kann man an dem Kästchen vor den einzelnen Paketen sehen, ob ein Paket in der aktuellen Arbeitssession bereits geladen wurde (dann würde hier ein Häkchen angezeigt werden).\n",
    "\n",
    "Der Tab **Help** beinhaltet die Hilfe und Anleitungen für die einzelnen Funktionen von R. \n",
    "Man kan die Hilfe aufrufen indem man ein Suchwort in das Suchfeld ganz links eingibt. Alternativ kann man auch innerhalb des Quelltextes den Cursor auf eine Funktion setzen und dann die Funktionstaste \"F1\" drücken. \n",
    "Außerdem kann man die Hilfe einer Funktion auch über den Befehl `?name_der_funktion()` aufrufen. Gibt man diesen Befehl ein öffnte sich automatisch der Help-Tab mit dem gesuchten Inhalt."
   ]
  },
  {
   "cell_type": "markdown",
   "metadata": {},
   "source": [
    "## Hilfreiche Features von RStudio\n",
    "\n",
    "RStudio ist eine umfangreiche IDE, die die AnwenderInnen mit umfangreichen Funktionen unterstützt. Ein paar davon möchte ich an dieser Stelle explizit hervorheben.\n",
    "\n",
    "**Autovervollständigen.**\n",
    "Während man in RStudio Text schreibt, macht die IDE Vorschläge, wie sich das bisher geschreibene sinnvoll vervollstädigen lässt. Dieses Feature ist besonders hilfreich, wenn man von einem Befehl nur den Anfang kennt und nicht genau weiß, wie er geschreiben wird und welche Elemente er beinhaltet.\n",
    "\n",
    "<img src=\"../_static/img/screenshot_autocomplete.png\" alt=\"Screenshot Autovervollständigen\" style=\"width:500px;margin-bottom:25px;margin-right:10px\" align=\"left\">\n",
    "\n",
    "Der Screenshot zeigt, wie nach Tippen der Buchstaben ´prin´ Funktionen angezeigt werden, die mit diesen Buchstaben beginnen. Aus den Vorschlägen kann man mit der Maus oder über die Pfeiltasten und Drücken der Entertaste den richtigen auswählen, ohne dass man den Befehl selbst zu Ende schreiben müsste. Das spart viel Zeit und ist außerdem gerade dann hilfreich, wenn man die BEfehle noch nicht auswendig kennt. Neben dem Autocomplete wird außerdem in gelb ein Hinweis zur Syntax und der Beginn der entsprechenden Hilfe-Datei angezeigt. Zu beachten ist, dass über das Autocomplete nur Funktionen aus Paketen angezeigt werden, weclhe während der aktuellen Session bereits geladen wurden."
   ]
  },
  {
   "cell_type": "markdown",
   "metadata": {},
   "source": [
    "**Aufrufen der Hilfe-Funktion.**\n",
    "Der Tab \"Help\", der weiter oben bereits vorgestellt wurde ist bei RStudio direkt in die Entwicklungsumgebung integriert. \n",
    "Dieser Umsand ist erwähnenswert, denn bei anderen IDEs öffnet sich bei Aufruf der Hilfefunktion häufig ein externer Browser. \n",
    "Das die Hilfe bei RStudio direkt integriert ist nimmt zwar etwas Platz auf dem Bildschirm weg, ist jedoch auch sehr anwenderfreundlich, gerade für ProgrammiereinsteigerInnen."
   ]
  },
  {
   "cell_type": "markdown",
   "metadata": {},
   "source": [
    "**Automatisches Einrückungen.**\n",
    "Wenn Codes länger werden und über mehrere Zeilen gehen bietet es sich an, diesen durch Einrückungen übersichtlich zu formatieren. Es kann so leicht kenntlich gemacht werden welche Teile einer längeren Kette von Befehlen unmittelbar zusammengehören.\n",
    "Bei einigen Programmeirsprachen gehören solche Einrückungen sogar unmittelbar zur Syntax dazu (z.B. bei Python). Aber selbst wenn sie nicht unmittelbar Bestandteil einer Sprache sind, sind Einrückungen für die menschliche AnwenderIn nützlich, um den Überblick zu behalten.\n",
    "RStudio schlägt während des Programmierens selbst sinnvolle Einrückungen vor, so dass die AnwenderIn damit meist keine Arbeit hat."
   ]
  },
  {
   "cell_type": "markdown",
   "metadata": {},
   "source": [
    "**Syntaxhighlighting.**\n",
    "Syntaxhighlighting bedeutet, dass unterscheidliche Bestandteile des Codes in unterschiedlichen Farben dargestellt werden. Der folgende Screenshot demonstriert dies:\n",
    "\n",
    "<img src=\"../_static/img/screenshot_syntax_highlighting.png\" alt=\"Screenshot Autovervollständigen\" style=\"margin-bottom:25px;margin-right:10px\" align=\"left\">\n",
    "Auch Syntaxhighlighting dient der Übersichtlichkeit für die menschlichen Anwenderin. \n",
    "Über das Menü \"Tools\" > \"Global Options\" > \"Appearance\" können Sie unterschiedliche Farbschemata einstellen. Einige davon haben einen dunklen Hintergrund. So ein *Dark Mode* hilft beim Energiesparen und ist veilleicht auch angenehmer für die Augen. Probieren Sie es ruhig aus!"
   ]
  },
  {
   "cell_type": "markdown",
   "metadata": {},
   "source": [
    "## Weiterführende Links\n",
    "- [RStudio](https://rstudio.com/)\n",
    "- [RStudio Cloud](https://rstudio.cloud/)\n",
    "- [R Consotium](https://www.r-consortium.org/)\n",
    "\n",
    "## Literatur\n",
    "```{bibliography} ../_bibliography/references.bib\n",
    ":style: plain\n",
    "```"
   ]
  }
 ],
 "metadata": {
  "jupytext": {
   "text_representation": {
    "extension": ".Rmd",
    "format_name": "rmarkdown",
    "format_version": "1.1",
    "jupytext_version": "1.1.1"
   }
  },
  "kernelspec": {
   "display_name": "R",
   "language": "R",
   "name": "ir"
  },
  "language_info": {
   "codemirror_mode": "r",
   "file_extension": ".r",
   "mimetype": "text/x-r-source",
   "name": "R",
   "pygments_lexer": "r",
   "version": "4.0.3"
  }
 },
 "nbformat": 4,
 "nbformat_minor": 4
}