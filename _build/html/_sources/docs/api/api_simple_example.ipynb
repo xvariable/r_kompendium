{
 "cells": [
  {
   "cell_type": "markdown",
   "metadata": {
    "id": "cuj4yAnxXbfQ"
   },
   "source": [
    "# Zugriff über eine API\n",
    "\n",
    "Als Beispiel benutzen wir die Seite [TVmaze](https://www.tvmaze.com/). Auf TVmaze aknn man sich Informationen zu TV-Serien und ihr Ausstrahlungstermine ansehen.\n",
    "\n",
    "## Ein GET()-Request über HTTP\n",
    "\n",
    "Wenn man auf der Seite z.B. nach dem Begriff \"Love\" sucht, bekommt man alle Serien angezeigt die diesen Begriff im Titel tragen und darunter eine Liste mit den Personen, die diesen Namen tragen. Aber noch etwas zweites passiert: Die URL im Brwoser verändert sich. Die URL ist die Adresse, die der Browser benötigt um uns eine Repräsentation der gewünschten Inhalte zu liefern, also eine GET()-Anfrage. Sie lautet jetzt [https://www.tvmaze.com/search?q=Love](https://www.tvmaze.com/search?q=Love). \n",
    "\n",
    "Schauen wir uns im Detail an, wie die URL jetzt aufgebaut ist.\n",
    "- `https://` Den erste Teil bildet das Protokoll, mit dem wir die Anfrage gestartet haben. Wie beim Besuch von Webseiten üblich handelt es sich um HTTP (**H**yper**t**ext **T**ransfer **P**rotocol), hier in seiner sicheren Variante, gekennzeichnet durch das *s*.\n",
    "- `www`: Ist die Subdomain\n",
    "- `tvmaze`: Der Name der Domain (die Adresse).\n",
    "- `com`: Die Toplevel-Domain\n",
    "- `/search`: Das Verzeichnis/der Pfad, in dem die Inhalte auf dem Server zu finden sind.\n",
    "- `?q=Love`: Die Suchanfrage, eingeleitet durch ein `?`, dann folgt eine Kennzeichnung für das Feld, in dem gesucht haben. Die Webentwickler der Seite haben es hier `q` benannt, das steht vermutlich für *querry*. Dan folgt ein `=` und der eingegebene Suchbegriff.\n",
    "\n",
    "\n",
    "## Ein GET()-Request über die API\n",
    " \n",
    "\n",
    "Wenn man nach ganz unten auf die Website scrollt, findet man den Link zur Dokumentation der API (oder [hier](https://www.tvmaze.com/api)). Dort wird beschreiben welche `GET()`-Anfragen man über die API machen kann und wie die Syntax dafür lautet. \n",
    "\n",
    "Man kann z.B. nach Shows oder Personen suchen, ganz ähnlich, wie wir das soeben schon gemacht haben. Allerdings kann man nicht beides gleichzeitig tun und sie URL dafür sieht ganz leicht anders aus. Für die Suche nach Shows lautet sie beispielhaft: \n",
    "- URL: `/search/shows?q=:query`\n",
    "- Beispiel: `http://api.tvmaze.com/search/shows?q=Love`\n",
    "\n",
    "Eigentlich sieht die URL derjenigen, die wir vorhin im Browser gesehen haben sehr ähnlich. nur das `www` (die Subdomain) wurde durch ein `api` ausgetauscht.\n",
    "Die Beispiel-URL können Sie testweise auch in den Browser eingeben. Sie bekommen dann im Prinzip die gleichen Daten angezeigt wie auch in der Suche, die Sie über das Suchfeld ausgeführt haben. Allerdings sind sie nicht so schön formatiert, dass wir sie gut lesen könnten. \n",
    "\n",
    "## JSON-Format\n",
    "Die API liefert Datensätze zurück die im **JSON**-Format formatiert sind. JSON (gesprochen wie der englische Vorname Jason) steht für **J**ava**s**cript **O**bject **N**otation und ist ein übliches Austauschformat im Web. Die Struktur ist sehr simpel, an einem formatierten Beispiel ist sie leicht zu verstehen:\n",
    "```\n",
    "{\n",
    "  \"Titel\": \"Risiken und Nutzen der Kommunikation auf Social Networking Sites\",\n",
    "  \"Herausgeber\": \"von Halem\",\n",
    "  \"ISBN\": \"978-3-86962-217-0\",\n",
    "  \"Seiten\": 424\n",
    "  \"Autorin\":\n",
    "  {\n",
    "    \"Name\": \"Niemann\",\n",
    "    \"Vorname\": \"Julia\",\n",
    "    \"maennlich\": false,\n",
    "  }\n",
    "}\n",
    "\n",
    "```\n",
    "Das Format besteht aus einer ineinander verschachtelten Struktur, die duch geschweifte Klammern gekennzeichnet ist. (`{`und `}`). Diese Klammern enthalten verschiedene, frei definierbare, Key-Value-Paare (z. B. `\"Vorname\": \"Julia\"`).\n",
    "\n",
    "Wenn Sie die URL oben in den Browser eingegeben haben ist das ganze leider nicht so schön formatiert wie im Beispiel oben. Die Einrückungen hat der Browser einfach weggelassen. Für Computer ist das JSON-Format natürlich trotzdem gut lesbar und R hat ein paar Tools, mit denen man ein JSON in Datensätze umwandeln kann. Deshalb schauen wir uns als nächstes an, wie wir das JSON über die API direkt in R laden können."
   ]
  },
  {
   "cell_type": "markdown",
   "metadata": {
    "id": "Kjs_G23PkzTI"
   },
   "source": [
    "## Auf APIs zugreifen über R\n",
    "\n",
    "### Vorbereitung\n",
    "Um eine Anfrage an eine REST-API zu stellen eignet sich in das Paket `httr`. Wie oben im Browser berits gesehen liefert die API eine JSON-Datei zurück. Die JSON-Datei in einen schön formatierten Datensatz umzuwandeln geht am einfachsten mit dem `jsonlite`-Paket. Beide Pakete gehören zum Tidyverse. Sie sollten also installiert sein, sofern das `tidyverse`-Paket bereits installiert wurde. Sie müssen aber dennoch separat geladen werden, das Laden des tidyverse-Paketes alleine reicht nicht aus. Außerdem installiere ich hier noch das Paket `janitor`, mit dem wir den Datensatz später noch schöner, nämlich mit Variablennamen im *snake_case* formatieren können.\n"
   ]
  },
  {
   "cell_type": "code",
   "execution_count": null,
   "metadata": {
    "id": "Y6Fd0QLEA5HD"
   },
   "outputs": [],
   "source": [
    "# OPTIONAL! Benötigte Pakete vorab installieren\n",
    "#install.packages(\"tidyverse\")\n",
    "#install.packages(\"janitor\")"
   ]
  },
  {
   "cell_type": "code",
   "execution_count": null,
   "metadata": {
    "id": "NDhH4tSjCIbm"
   },
   "outputs": [],
   "source": [
    "#Pakete laden\n",
    "library(tidyverse)\n",
    "library(httr)\n",
    "library(jsonlite)\n",
    "library(janitor)"
   ]
  },
  {
   "cell_type": "markdown",
   "metadata": {
    "id": "Qn3sMQe6CDrR"
   },
   "source": [
    "### Mit httr auf eine API zugreifen\n",
    "Um den Output klein zu halten lade ich im folgenden Beispiel das JSON-File für nur eine Serie herunter, also nur einen einzelnen Datensatz. Ich habe mich für die Sesamstraße, auf Englisch \"sesame street\" entschieden. Die URL für den API-Zugriff lautet analog zum obigen Beispiel: ```\"http://api.tvmaze.com/search/shows?q=sesame%20street\"```\n",
    "\n",
    "Vielleicht fällt Ihnen das `%20` in der URL auf. Da URLs keine Leerzeichen enthalten dürfen, muss das Leerzeichen in \"sesame street\" encodiert werden. Die Zeichenfolge `%20` wird ersatzweise für das Leerzeichen eingesetzt. Auch viele andere Sonderzeichen dürfen nicht in URLs enthalten sein und müssten in so einer Anfrage encodiert werden. Weitere Infos zum URL-Encoding finden Sie auf [Wikipedia](https://de.wikipedia.org/wiki/URL-Encoding). Dort wird auch nochmaleinmal die Bedeutung der Steuerungszeichen `?`und `=`erläutert."
   ]
  },
  {
   "cell_type": "code",
   "execution_count": null,
   "metadata": {
    "colab": {
     "base_uri": "https://localhost:8080/",
     "height": 119
    },
    "executionInfo": {
     "elapsed": 1283,
     "status": "ok",
     "timestamp": 1603697144344,
     "user": {
      "displayName": "Julia Niemann",
      "photoUrl": "https://lh3.googleusercontent.com/a-/AOh14Gj9KAde8fEcmpSR2WXE2RWEweyjdD-5oTIi20Sq0w=s64",
      "userId": "17148363579770209901"
     },
     "user_tz": -60
    },
    "id": "CjPNEIyc1vHo",
    "outputId": "c622d71e-94d0-4ebd-b117-3751568af37e"
   },
   "outputs": [],
   "source": [
    "# GET-Request mit httr\n",
    "my_response <- GET(\"http://api.tvmaze.com/search/shows?q=sesame%20street\")\n",
    "print(my_response)"
   ]
  },
  {
   "cell_type": "markdown",
   "metadata": {
    "id": "VlfLEZ0tMw6k"
   },
   "source": [
    "Führt man das Beispiel aus, ist das Ergebnis zunächst etwas enttäuschend. Mit `print()` kann man zwar einige Informationen über die GET()-Anfrage anzeigen lassen, nämlich die Adresse, Datum & Uhrzeit, den Statuscode, Art und Encoding des Ergebnisses und die Größe. Die eigentlichen Inhalte/Daten werden jedoch nicht direkt ausgegeben.\n",
    "\n",
    "Dennoch, diese Informationen sind ja auch schon einmal ganz interessant. Man kann aus ihnen schließen, dass offenbar alles in Ordnung ist, denn der Content-Typ ist der den wir erwarten (JSON) und die Größe ist nicht 0. Es sind also irgendwelche Daten bei uns angekommen. Zusätzlich gibt der HTTP-Statuscode einen Hinweis darauf, das alles glatt gelaufen ist: \"200\" bedeutet \"OK\". \n",
    "\n",
    "Falls es mal nicht so gut läuft: Eine Übersicht über die verschiedenen Statuscodes finden Sie ebenfalls auf [Wikipedia](https://de.wikipedia.org/wiki/HTTP-Statuscode).\n",
    "\n",
    "Um aus der Response die Ergebnisse auszugeben, kann man den Befehl `content()` benutzen. Er extrahiert den Inhalt des Objekts `my_response`, die Daten im JSON-Format. Man kann auf diese Weise Daten als RAW oder im Text-Format-extrahieren. JSON-Daten sind Textdaten, also spezifizieren wir dies hier."
   ]
  },
  {
   "cell_type": "code",
   "execution_count": null,
   "metadata": {
    "id": "a70FI3UpNHHY"
   },
   "outputs": [],
   "source": [
    "# Den Inhalt der Response ausgeben\n",
    "my_content <- content(my_response, as = \"text\")\n",
    "my_content"
   ]
  },
  {
   "cell_type": "markdown",
   "metadata": {
    "id": "lEKCdMZOzZf_"
   },
   "source": [
    "Die Ausgabe sieht so aus wie wir das schon aus dem Browser kennen. Eine ziemliche Textwüste mit einigen Verschachtelungen und Key-Value-Paaren. Auch hier handelt es sich um JSON."
   ]
  },
  {
   "cell_type": "markdown",
   "metadata": {
    "id": "vjPgzppG-zT5"
   },
   "source": [
    "### Die Response in einen Datensatz umwandeln\n",
    "Zum Glück ist es mit dem Paket `jsonlite` sehr einfach, einen Datensatz daraus zu erzeugen. Der Befehl `fromJSON()` wandelt die Datei in eine Matrix um. Das zusätzliche Attribut `flatten = TRUE` sorgt dabei dafür, die Verschachtelungen im JSON-File aufzulösen. In der zwiten Zeile der Pipe wird die Matrix direkt in einen Datensatz bzw. Tibble umgewandelt. Der Zusatz `.name_repair = janitor::make_clean_names` sorgt dabei dafür, die Variablennamen tidyverse-konform in snake_case zu ändern. "
   ]
  },
  {
   "cell_type": "code",
   "execution_count": null,
   "metadata": {
    "id": "spEparPeTO8g"
   },
   "outputs": [],
   "source": [
    "# Mit jsonlite in einen Tibble umwandeln\n",
    "df <- fromJSON(my_content, flatten = TRUE) %>%\n",
    "  as_tibble(.name_repair = janitor::make_clean_names) \n",
    "\n",
    "# Datensatz anzeigen\n",
    "head(df)"
   ]
  },
  {
   "cell_type": "markdown",
   "metadata": {
    "id": "XRHsX4n8P5pZ"
   },
   "source": [
    "## Zusammenfassung\n",
    "\n",
    "In sehr wenigen Zeilen Code haben wir auf die API zugegriffen und einen schön formatierten Datensatz erzeugt. Natürlich wäre an dieser Stelle in einem normalen Forschungsprojekt noch nicht Schluss. Sicher interessiert es Sie, den Datensatz zu erkunden und nachzusehen, welche Informationen wir nun eigentlich erhalten haben. Eine Variablen enthalten vielleicht Texte, die noch formatiert oder aus denen die Relevanten Informationen extrahiert werden müssen.\n",
    "\n",
    "Außerdem ist unser Datensatz etwas albern. Er hat ja nur eine Zeile! Die Informationen über die Sesamstraße hätten wir schneller erhalten können indem wir einfach über die Website gesucht hätten. Kommen wir deshalb nochmal auf unser erstes Beispiel zurück. Die Suche nach allen Serien die \"Love\" im Titel haben.\n",
    "\n",
    "In der folgenden Zusammenfassung des Codes erzeuge ich einen entsprechenden Datensatz, der die \"Love\"-Serien enthält. Ich habe außerdem die `GET()`-Funktion noch einmal ein wenig umgeschrieben. Auf diese Weise muss man nicht selbst die Request für formulieren und alle URL-Encodings kennen. "
   ]
  },
  {
   "cell_type": "code",
   "execution_count": null,
   "metadata": {
    "id": "wmTRk3F0HzPc",
    "scrolled": true
   },
   "outputs": [],
   "source": [
    "# GET-Request mit httr\n",
    "love_response <- GET(url = \"http://api.tvmaze.com/\",\n",
    "                    path = \"search/shows\",\n",
    "                    query = list(\n",
    "                      q = \"Love\"\n",
    "                    ))\n",
    "\n",
    "# Mit jsonlite in einen Tibble umwandeln\n",
    "df_love <- content(love_response, as = \"text\") %>%\n",
    "      fromJSON(flatten = TRUE) %>%\n",
    "      as_tibble(.name_repair = janitor::make_clean_names) \n",
    "\n",
    "# Ergebnisdatensatz anzeigen\n",
    "head(df_love, 10)"
   ]
  },
  {
   "cell_type": "markdown",
   "metadata": {
    "id": "11GxB3DCHGe7"
   },
   "source": [
    "**Hinweis:** Leider hat der API-Provider den Zugriff über die search-API auf maximal 10 Serien beschränkt (siehe [Forumseintrag](https://www.tvmaze.com/threads/365/show-search-is-restricted)). Aber Sie bekommen hier trotzdem einen Eindruck, wie es aussehen könnte..."
   ]
  },
  {
   "cell_type": "markdown",
   "metadata": {
    "id": "epi9EI0XNHgV"
   },
   "source": [
    "## Übungsaufgabe\n",
    "\n",
    "Jetzt sind Sie an der Reihe. Aus der [Dokumentation der TVmaze-API](https://www.tvmaze.com/api) wissen Sie, dass man damit sehr viel mehr machen kann, als nur nach Serien zu suchen. Man kann sich z. B. auch die Episoden einer Serie ausgeben lassen.  \n",
    "\n",
    "**Genau das ist jetzt Ihre Aufgabe. Suchen Sie sich Ihre Lieblingsserie heraus und laden Sie alle Episoden in einen Datensatz!**\n",
    "\n",
    "**Hinweis 1:** Sie müssen zunächst herausfinden, welche ID Ihre Serie hat.\n",
    "\n",
    "**Hinweis 2:** Um wirklich *alle* Episoden (die in TVmaze gelistet sind) zu bekommen, müssen Sie Ihrer Suchanfrage den Parameter `all=1` mitgeben.\n"
   ]
  },
  {
   "cell_type": "code",
   "execution_count": null,
   "metadata": {
    "id": "qie1dngvFrqL"
   },
   "outputs": [],
   "source": [
    "# Ihr Code hier!\n",
    "# GET-Request mit httr\n",
    "response_sesame <- GET(url = \"http://api.tvmaze.com/\",\n",
    "                    path = \"shows/6544/episodes\",\n",
    "                    query = list(\n",
    "                      all = 1\n",
    "                    ))\n",
    "\n",
    "# Mit jsonlite in einen Tibble umwandeln\n",
    "df_sesame <- content(response_sesame, as = \"text\") %>%\n",
    "      fromJSON(flatten = TRUE) %>%\n",
    "      as_tibble(.name_repair = janitor::make_clean_names) \n",
    "\n",
    "# Anzahl der Fälle ausgeben\n",
    "print(str_c(\"Der Datensatz hat \", nrow(df_sesame), \" Einträge.\"))\n",
    "\n",
    "# Ergebnisdatensatz anzeigen\n",
    "head(df_sesame, 10)"
   ]
  },
  {
   "cell_type": "markdown",
   "metadata": {
    "id": "wSYy5CTkSJmw"
   },
   "source": [
    "## Authentifizierung\n",
    "\n",
    "Die API, die wir uns gerade angeschaut haben, ist frei und kostenlos verfügbar. Jeder kann sie benutzen, man muss sich gegenüber dem Server nicht einmal ausweisen. Das ist nicht bei allen APIs so. Im Gegenteil, die meisten Provider interessanter APIs möchten, dass man sich registiert und bei jedem API-Zugriff authentifiziert. Auch bei TVmaze gibt es zusätzlich zur freien API eine \"Premium\"-API für registirierte Nutzer und sogar einen Zugang für Geschäftskunden.\n",
    "Über die Authentifizierung kann der API-Provider den Zugriff regeln und limitieren (z.B. den Abruf von nur X Datensätzen pro Monat erlauben) und auch den Datentransfer abrechnen, wenn dieser kostenpflichtig ist. \n",
    "\n",
    "Eine übliche Beschränkung ist bspw. auch das so genannte **Rate Limiting**. Dabei wird die Menge der möglichen Anfragen pro Zeiteinheit eingeschränkt. Twitter limitiert z.B. den Zugriff auf Timelines mit 75 Request pro 15 Minuten. Damit wird verhindert, dass der Server unter der Last zuvieler Anfragen zusammenbricht und eine missbräuchliche \"übermäßige\" Nutzung wird eingedämmt. Beim Zugriff auf APIs sollte man deshalb auf eine faire Nutzung achten und darauf, dass man das Rate Limit keinesfalls überschreitet. Im R-Code kann man dazu mit der Funktion `Sys.sleep()` die Ausführung von Code um ein selbst gewähltes Zeitintervall verzögern. Die Funktion ist in base R verfügbar.\n",
    "\n",
    "## Aufgaben\n",
    "\n",
    "1. Finden Sie in der [Dokumentation](https://www.tvmaze.com/api) heraus, was das Rate Limit für die TVmaze-API ist.\n",
    "\n",
    "2. Schauen Sie auf [Wikipedia](https://de.wikipedia.org/wiki/HTTP-Statuscode) nach, welchen HTTP-Fehler-Code eine Request zurückliefert, wenn das Rate Limit überschritten wurde.\n",
    "\n"
   ]
  },
  {
   "cell_type": "markdown",
   "metadata": {
    "id": "r1K-39DW3SpY"
   },
   "source": [
    "## OAuth\n",
    "In der Regel ist die Authentifizierung für eine Web-API komplizierter als ein Login auf eine Website, die nur einen Usernamen und ein Passwort verlangt. Sie erfolgt über OAuth (**O**pen **Auth**orization). OAuth unterscheidet zwischen verscheidenen Rollen und ist in 2 verscheidenen Protokollen verfügbar, welche sich in Nutzungsweise und Sicherheit unterscheiden (OAuth 1.0 und OAuth 2.0). Wie OAuth im Detail funktioniert ist an dieser Stelle nicht wichtig. Es reicht zu wissen das zwischen verschiedenen Rollen (z. B. Provider und Client) und verschiedenen Anmeldedaten (s. g. *Credentials*) unterschieden wird. Man benötigt mehr als ein Passwort, nämlich (mindestens) einen *Key* und ein zugehöriges *Secret*. Dieses erhalt man normalerweise direkt nach erfolgter Registrierung beim API-Provider. In jeder Session wird zudem ein *Token* erzeugt, der den Zugang zur API regelt.\n",
    "\n",
    "Mehr zu OAuth findet sich aber bei Munzert, Rubba, Meißner und Nyhuis 2015 (S. 266-270). Im nächsten Abschnitt werden wir eine Authentifizierung mit OAuth durchführen, allerdings benutzen wir dazu einen API-Wrapper. Das ist eine Software, die die Details des API-Abrufs und auch der Authentifizierung für uns regelt. Aber auch über das `httr`-Paket können Sie sich via OAuth authentifizieren. \n"
   ]
  }
 ],
 "metadata": {
  "kernelspec": {
   "display_name": "R",
   "language": "R",
   "name": "ir"
  },
  "language_info": {
   "codemirror_mode": "r",
   "file_extension": ".r",
   "mimetype": "text/x-r-source",
   "name": "R",
   "pygments_lexer": "r",
   "version": "4.0.3"
  },
  "toc": {
   "base_numbering": 1,
   "nav_menu": {},
   "number_sections": true
  }
 },
 "nbformat": 4,
 "nbformat_minor": 1
}
