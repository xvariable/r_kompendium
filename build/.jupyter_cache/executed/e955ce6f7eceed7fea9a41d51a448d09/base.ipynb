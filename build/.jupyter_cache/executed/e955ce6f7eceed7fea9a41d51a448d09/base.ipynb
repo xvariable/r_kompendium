{
 "cells": [
  {
   "cell_type": "code",
   "execution_count": 1,
   "metadata": {
    "id": "Y6Fd0QLEA5HD"
   },
   "outputs": [],
   "source": [
    "# OPTIONAL! Benötigte Pakete vorab installieren\n",
    "#install.packages(\"tidyverse\")\n",
    "#install.packages(\"janitor\")"
   ]
  },
  {
   "cell_type": "code",
   "execution_count": 2,
   "metadata": {
    "id": "NDhH4tSjCIbm"
   },
   "outputs": [
    {
     "name": "stderr",
     "output_type": "stream",
     "text": [
      "── \u001b[1mAttaching packages\u001b[22m ───────────────────────────────────────── tidyverse 1.3.0 ──\n",
      "\n"
     ]
    },
    {
     "name": "stderr",
     "output_type": "stream",
     "text": [
      "\u001b[32m✔\u001b[39m \u001b[34mggplot2\u001b[39m 3.3.2     \u001b[32m✔\u001b[39m \u001b[34mpurrr  \u001b[39m 0.3.4\n",
      "\u001b[32m✔\u001b[39m \u001b[34mtibble \u001b[39m 3.0.4     \u001b[32m✔\u001b[39m \u001b[34mdplyr  \u001b[39m 1.0.2\n",
      "\u001b[32m✔\u001b[39m \u001b[34mtidyr  \u001b[39m 1.1.2     \u001b[32m✔\u001b[39m \u001b[34mstringr\u001b[39m 1.4.0\n",
      "\u001b[32m✔\u001b[39m \u001b[34mreadr  \u001b[39m 1.4.0     \u001b[32m✔\u001b[39m \u001b[34mforcats\u001b[39m 0.5.0\n",
      "\n"
     ]
    },
    {
     "name": "stderr",
     "output_type": "stream",
     "text": [
      "── \u001b[1mConflicts\u001b[22m ──────────────────────────────────────────── tidyverse_conflicts() ──\n",
      "\u001b[31m✖\u001b[39m \u001b[34mdplyr\u001b[39m::\u001b[32mfilter()\u001b[39m masks \u001b[34mstats\u001b[39m::filter()\n",
      "\u001b[31m✖\u001b[39m \u001b[34mdplyr\u001b[39m::\u001b[32mlag()\u001b[39m    masks \u001b[34mstats\u001b[39m::lag()\n",
      "\n"
     ]
    },
    {
     "name": "stderr",
     "output_type": "stream",
     "text": [
      "\n",
      "Attaching package: ‘jsonlite’\n",
      "\n",
      "\n"
     ]
    },
    {
     "name": "stderr",
     "output_type": "stream",
     "text": [
      "The following object is masked from ‘package:purrr’:\n",
      "\n",
      "    flatten\n",
      "\n",
      "\n"
     ]
    },
    {
     "name": "stderr",
     "output_type": "stream",
     "text": [
      "\n",
      "Attaching package: ‘janitor’\n",
      "\n",
      "\n"
     ]
    },
    {
     "name": "stderr",
     "output_type": "stream",
     "text": [
      "The following objects are masked from ‘package:stats’:\n",
      "\n",
      "    chisq.test, fisher.test\n",
      "\n",
      "\n"
     ]
    }
   ],
   "source": [
    "#Pakete laden\n",
    "library(tidyverse)\n",
    "library(httr)\n",
    "library(jsonlite)\n",
    "library(janitor)"
   ]
  },
  {
   "cell_type": "code",
   "execution_count": 3,
   "metadata": {
    "colab": {
     "base_uri": "https://localhost:8080/",
     "height": 119
    },
    "executionInfo": {
     "elapsed": 1283,
     "status": "ok",
     "timestamp": 1603697144344,
     "user": {
      "displayName": "Julia Niemann",
      "photoUrl": "https://lh3.googleusercontent.com/a-/AOh14Gj9KAde8fEcmpSR2WXE2RWEweyjdD-5oTIi20Sq0w=s64",
      "userId": "17148363579770209901"
     },
     "user_tz": -60
    },
    "id": "CjPNEIyc1vHo",
    "outputId": "c622d71e-94d0-4ebd-b117-3751568af37e"
   },
   "outputs": [
    {
     "name": "stdout",
     "output_type": "stream",
     "text": [
      "Response [http://api.tvmaze.com/search/shows?q=sesame%20street]\n",
      "  Date: 2020-10-29 20:21\n",
      "  Status: 200\n",
      "  Content-Type: application/json; charset=UTF-8\n",
      "  Size: 1.82 kB\n",
      "\n"
     ]
    }
   ],
   "source": [
    "# GET-Request mit httr\n",
    "my_response <- GET(\"http://api.tvmaze.com/search/shows?q=sesame%20street\")\n",
    "print(my_response)"
   ]
  },
  {
   "cell_type": "code",
   "execution_count": 4,
   "metadata": {
    "id": "a70FI3UpNHHY"
   },
   "outputs": [
    {
     "data": {
      "text/html": [
       "'[{\"score\":38.33449,\"show\":{\"id\":6544,\"url\":\"http://www.tvmaze.com/shows/6544/sesame-street\",\"name\":\"Sesame Street\",\"type\":\"Scripted\",\"language\":\"English\",\"genres\":[\"Children\"],\"status\":\"Running\",\"runtime\":30,\"premiered\":\"1969-11-10\",\"officialSite\":\"http://www.sesamestreet.org\",\"schedule\":{\"time\":\"09:00\",\"days\":[\"Saturday\"]},\"rating\":{\"average\":8.3},\"weight\":86,\"network\":{\"id\":8,\"name\":\"HBO\",\"country\":{\"name\":\"United States\",\"code\":\"US\",\"timezone\":\"America/New_York\"}},\"webChannel\":null,\"externals\":{\"tvrage\":5152,\"thetvdb\":78419,\"imdb\":\"tt0063951\"},\"image\":{\"medium\":\"http://static.tvmaze.com/uploads/images/medium_portrait/222/555972.jpg\",\"original\":\"http://static.tvmaze.com/uploads/images/original_untouched/222/555972.jpg\"},\"summary\":\"&lt;p&gt;&lt;b&gt;Sesame Street&lt;/b&gt; is a widely recognized and perpetually daring experiment in educational children\\'s programming. This show has taken popular-culture and turned it upside-down. The fast-paced advertisements that had parents of the new era worrying for their children were the basis for the original format of this show. The show has often satirized pop culture, and made itself easier for parents to watch along too. And thus, the positive impact this show has had on modern society is beyond another. No show is more recognized the world over by as many generations and walks of life. Shown in its original format or with changes to reflect a regional education focus, Sesame Street is now seen in over 140 countries. The show that Entertainment Weekly named the \\\\\"20th Best Ever Show\\\\\" has changed the education scene to focus on \\\\\"entertainment\\\\\". This has turned out to be a valuable theory that not only...&lt;/p&gt;\",\"updated\":1603544756,\"_links\":{\"self\":{\"href\":\"http://api.tvmaze.com/shows/6544\"},\"previousepisode\":{\"href\":\"http://api.tvmaze.com/episodes/1881736\"}}}}]'"
      ],
      "text/latex": [
       "'{[}\\{\"score\":38.33449,\"show\":\\{\"id\":6544,\"url\":\"http://www.tvmaze.com/shows/6544/sesame-street\",\"name\":\"Sesame Street\",\"type\":\"Scripted\",\"language\":\"English\",\"genres\":{[}\"Children\"{]},\"status\":\"Running\",\"runtime\":30,\"premiered\":\"1969-11-10\",\"officialSite\":\"http://www.sesamestreet.org\",\"schedule\":\\{\"time\":\"09:00\",\"days\":{[}\"Saturday\"{]}\\},\"rating\":\\{\"average\":8.3\\},\"weight\":86,\"network\":\\{\"id\":8,\"name\":\"HBO\",\"country\":\\{\"name\":\"United States\",\"code\":\"US\",\"timezone\":\"America/New\\_York\"\\}\\},\"webChannel\":null,\"externals\":\\{\"tvrage\":5152,\"thetvdb\":78419,\"imdb\":\"tt0063951\"\\},\"image\":\\{\"medium\":\"http://static.tvmaze.com/uploads/images/medium\\_portrait/222/555972.jpg\",\"original\":\"http://static.tvmaze.com/uploads/images/original\\_untouched/222/555972.jpg\"\\},\"summary\":\"<p><b>Sesame Street</b> is a widely recognized and perpetually daring experiment in educational children\\textbackslash{}'s programming. This show has taken popular-culture and turned it upside-down. The fast-paced advertisements that had parents of the new era worrying for their children were the basis for the original format of this show. The show has often satirized pop culture, and made itself easier for parents to watch along too. And thus, the positive impact this show has had on modern society is beyond another. No show is more recognized the world over by as many generations and walks of life. Shown in its original format or with changes to reflect a regional education focus, Sesame Street is now seen in over 140 countries. The show that Entertainment Weekly named the \\textbackslash{}\\textbackslash{}\"20th Best Ever Show\\textbackslash{}\\textbackslash{}\" has changed the education scene to focus on \\textbackslash{}\\textbackslash{}\"entertainment\\textbackslash{}\\textbackslash{}\". This has turned out to be a valuable theory that not only...</p>\",\"updated\":1603544756,\"\\_links\":\\{\"self\":\\{\"href\":\"http://api.tvmaze.com/shows/6544\"\\},\"previousepisode\":\\{\"href\":\"http://api.tvmaze.com/episodes/1881736\"\\}\\}\\}\\}{]}'"
      ],
      "text/markdown": [
       "'[{\"score\":38.33449,\"show\":{\"id\":6544,\"url\":\"http://www.tvmaze.com/shows/6544/sesame-street\",\"name\":\"Sesame Street\",\"type\":\"Scripted\",\"language\":\"English\",\"genres\":[\"Children\"],\"status\":\"Running\",\"runtime\":30,\"premiered\":\"1969-11-10\",\"officialSite\":\"http://www.sesamestreet.org\",\"schedule\":{\"time\":\"09:00\",\"days\":[\"Saturday\"]},\"rating\":{\"average\":8.3},\"weight\":86,\"network\":{\"id\":8,\"name\":\"HBO\",\"country\":{\"name\":\"United States\",\"code\":\"US\",\"timezone\":\"America/New_York\"}},\"webChannel\":null,\"externals\":{\"tvrage\":5152,\"thetvdb\":78419,\"imdb\":\"tt0063951\"},\"image\":{\"medium\":\"http://static.tvmaze.com/uploads/images/medium_portrait/222/555972.jpg\",\"original\":\"http://static.tvmaze.com/uploads/images/original_untouched/222/555972.jpg\"},\"summary\":\"&lt;p&gt;&lt;b&gt;Sesame Street&lt;/b&gt; is a widely recognized and perpetually daring experiment in educational children\\'s programming. This show has taken popular-culture and turned it upside-down. The fast-paced advertisements that had parents of the new era worrying for their children were the basis for the original format of this show. The show has often satirized pop culture, and made itself easier for parents to watch along too. And thus, the positive impact this show has had on modern society is beyond another. No show is more recognized the world over by as many generations and walks of life. Shown in its original format or with changes to reflect a regional education focus, Sesame Street is now seen in over 140 countries. The show that Entertainment Weekly named the \\\\\"20th Best Ever Show\\\\\" has changed the education scene to focus on \\\\\"entertainment\\\\\". This has turned out to be a valuable theory that not only...&lt;/p&gt;\",\"updated\":1603544756,\"_links\":{\"self\":{\"href\":\"http://api.tvmaze.com/shows/6544\"},\"previousepisode\":{\"href\":\"http://api.tvmaze.com/episodes/1881736\"}}}}]'"
      ],
      "text/plain": [
       "[1] \"[{\\\"score\\\":38.33449,\\\"show\\\":{\\\"id\\\":6544,\\\"url\\\":\\\"http://www.tvmaze.com/shows/6544/sesame-street\\\",\\\"name\\\":\\\"Sesame Street\\\",\\\"type\\\":\\\"Scripted\\\",\\\"language\\\":\\\"English\\\",\\\"genres\\\":[\\\"Children\\\"],\\\"status\\\":\\\"Running\\\",\\\"runtime\\\":30,\\\"premiered\\\":\\\"1969-11-10\\\",\\\"officialSite\\\":\\\"http://www.sesamestreet.org\\\",\\\"schedule\\\":{\\\"time\\\":\\\"09:00\\\",\\\"days\\\":[\\\"Saturday\\\"]},\\\"rating\\\":{\\\"average\\\":8.3},\\\"weight\\\":86,\\\"network\\\":{\\\"id\\\":8,\\\"name\\\":\\\"HBO\\\",\\\"country\\\":{\\\"name\\\":\\\"United States\\\",\\\"code\\\":\\\"US\\\",\\\"timezone\\\":\\\"America/New_York\\\"}},\\\"webChannel\\\":null,\\\"externals\\\":{\\\"tvrage\\\":5152,\\\"thetvdb\\\":78419,\\\"imdb\\\":\\\"tt0063951\\\"},\\\"image\\\":{\\\"medium\\\":\\\"http://static.tvmaze.com/uploads/images/medium_portrait/222/555972.jpg\\\",\\\"original\\\":\\\"http://static.tvmaze.com/uploads/images/original_untouched/222/555972.jpg\\\"},\\\"summary\\\":\\\"<p><b>Sesame Street</b> is a widely recognized and perpetually daring experiment in educational children's programming. This show has taken popular-culture and turned it upside-down. The fast-paced advertisements that had parents of the new era worrying for their children were the basis for the original format of this show. The show has often satirized pop culture, and made itself easier for parents to watch along too. And thus, the positive impact this show has had on modern society is beyond another. No show is more recognized the world over by as many generations and walks of life. Shown in its original format or with changes to reflect a regional education focus, Sesame Street is now seen in over 140 countries. The show that Entertainment Weekly named the \\\\\\\"20th Best Ever Show\\\\\\\" has changed the education scene to focus on \\\\\\\"entertainment\\\\\\\". This has turned out to be a valuable theory that not only...</p>\\\",\\\"updated\\\":1603544756,\\\"_links\\\":{\\\"self\\\":{\\\"href\\\":\\\"http://api.tvmaze.com/shows/6544\\\"},\\\"previousepisode\\\":{\\\"href\\\":\\\"http://api.tvmaze.com/episodes/1881736\\\"}}}}]\""
      ]
     },
     "metadata": {},
     "output_type": "display_data"
    }
   ],
   "source": [
    "# Den Inhalt der Response ausgeben\n",
    "my_content <- content(my_response, as = \"text\")\n",
    "my_content"
   ]
  },
  {
   "cell_type": "code",
   "execution_count": 5,
   "metadata": {
    "id": "spEparPeTO8g"
   },
   "outputs": [
    {
     "data": {
      "text/html": [
       "<table>\n",
       "<caption>A tibble: 1 × 30</caption>\n",
       "<thead>\n",
       "\t<tr><th scope=col>score</th><th scope=col>show_id</th><th scope=col>show_url</th><th scope=col>show_name</th><th scope=col>show_type</th><th scope=col>show_language</th><th scope=col>show_genres</th><th scope=col>show_status</th><th scope=col>show_runtime</th><th scope=col>show_premiered</th><th scope=col>⋯</th><th scope=col>show_network_country_name</th><th scope=col>show_network_country_code</th><th scope=col>show_network_country_timezone</th><th scope=col>show_externals_tvrage</th><th scope=col>show_externals_thetvdb</th><th scope=col>show_externals_imdb</th><th scope=col>show_image_medium</th><th scope=col>show_image_original</th><th scope=col>show_links_self_href</th><th scope=col>show_links_previousepisode_href</th></tr>\n",
       "\t<tr><th scope=col>&lt;dbl&gt;</th><th scope=col>&lt;int&gt;</th><th scope=col>&lt;chr&gt;</th><th scope=col>&lt;chr&gt;</th><th scope=col>&lt;chr&gt;</th><th scope=col>&lt;chr&gt;</th><th scope=col>&lt;list&gt;</th><th scope=col>&lt;chr&gt;</th><th scope=col>&lt;int&gt;</th><th scope=col>&lt;chr&gt;</th><th scope=col>⋯</th><th scope=col>&lt;chr&gt;</th><th scope=col>&lt;chr&gt;</th><th scope=col>&lt;chr&gt;</th><th scope=col>&lt;int&gt;</th><th scope=col>&lt;int&gt;</th><th scope=col>&lt;chr&gt;</th><th scope=col>&lt;chr&gt;</th><th scope=col>&lt;chr&gt;</th><th scope=col>&lt;chr&gt;</th><th scope=col>&lt;chr&gt;</th></tr>\n",
       "</thead>\n",
       "<tbody>\n",
       "\t<tr><td>38.33449</td><td>6544</td><td>http://www.tvmaze.com/shows/6544/sesame-street</td><td>Sesame Street</td><td>Scripted</td><td>English</td><td>Children</td><td>Running</td><td>30</td><td>1969-11-10</td><td>⋯</td><td>United States</td><td>US</td><td>America/New_York</td><td>5152</td><td>78419</td><td>tt0063951</td><td>http://static.tvmaze.com/uploads/images/medium_portrait/222/555972.jpg</td><td>http://static.tvmaze.com/uploads/images/original_untouched/222/555972.jpg</td><td>http://api.tvmaze.com/shows/6544</td><td>http://api.tvmaze.com/episodes/1881736</td></tr>\n",
       "</tbody>\n",
       "</table>\n"
      ],
      "text/latex": [
       "A tibble: 1 × 30\n",
       "\\begin{tabular}{lllllllllllllllllllll}\n",
       " score & show\\_id & show\\_url & show\\_name & show\\_type & show\\_language & show\\_genres & show\\_status & show\\_runtime & show\\_premiered & ⋯ & show\\_network\\_country\\_name & show\\_network\\_country\\_code & show\\_network\\_country\\_timezone & show\\_externals\\_tvrage & show\\_externals\\_thetvdb & show\\_externals\\_imdb & show\\_image\\_medium & show\\_image\\_original & show\\_links\\_self\\_href & show\\_links\\_previousepisode\\_href\\\\\n",
       " <dbl> & <int> & <chr> & <chr> & <chr> & <chr> & <list> & <chr> & <int> & <chr> & ⋯ & <chr> & <chr> & <chr> & <int> & <int> & <chr> & <chr> & <chr> & <chr> & <chr>\\\\\n",
       "\\hline\n",
       "\t 38.33449 & 6544 & http://www.tvmaze.com/shows/6544/sesame-street & Sesame Street & Scripted & English & Children & Running & 30 & 1969-11-10 & ⋯ & United States & US & America/New\\_York & 5152 & 78419 & tt0063951 & http://static.tvmaze.com/uploads/images/medium\\_portrait/222/555972.jpg & http://static.tvmaze.com/uploads/images/original\\_untouched/222/555972.jpg & http://api.tvmaze.com/shows/6544 & http://api.tvmaze.com/episodes/1881736\\\\\n",
       "\\end{tabular}\n"
      ],
      "text/markdown": [
       "\n",
       "A tibble: 1 × 30\n",
       "\n",
       "| score &lt;dbl&gt; | show_id &lt;int&gt; | show_url &lt;chr&gt; | show_name &lt;chr&gt; | show_type &lt;chr&gt; | show_language &lt;chr&gt; | show_genres &lt;list&gt; | show_status &lt;chr&gt; | show_runtime &lt;int&gt; | show_premiered &lt;chr&gt; | ⋯ ⋯ | show_network_country_name &lt;chr&gt; | show_network_country_code &lt;chr&gt; | show_network_country_timezone &lt;chr&gt; | show_externals_tvrage &lt;int&gt; | show_externals_thetvdb &lt;int&gt; | show_externals_imdb &lt;chr&gt; | show_image_medium &lt;chr&gt; | show_image_original &lt;chr&gt; | show_links_self_href &lt;chr&gt; | show_links_previousepisode_href &lt;chr&gt; |\n",
       "|---|---|---|---|---|---|---|---|---|---|---|---|---|---|---|---|---|---|---|---|---|\n",
       "| 38.33449 | 6544 | http://www.tvmaze.com/shows/6544/sesame-street | Sesame Street | Scripted | English | Children | Running | 30 | 1969-11-10 | ⋯ | United States | US | America/New_York | 5152 | 78419 | tt0063951 | http://static.tvmaze.com/uploads/images/medium_portrait/222/555972.jpg | http://static.tvmaze.com/uploads/images/original_untouched/222/555972.jpg | http://api.tvmaze.com/shows/6544 | http://api.tvmaze.com/episodes/1881736 |\n",
       "\n"
      ],
      "text/plain": [
       "  score    show_id show_url                                       show_name    \n",
       "1 38.33449 6544    http://www.tvmaze.com/shows/6544/sesame-street Sesame Street\n",
       "  show_type show_language show_genres show_status show_runtime show_premiered ⋯\n",
       "1 Scripted  English       Children    Running     30           1969-11-10     ⋯\n",
       "  show_network_country_name show_network_country_code\n",
       "1 United States             US                       \n",
       "  show_network_country_timezone show_externals_tvrage show_externals_thetvdb\n",
       "1 America/New_York              5152                  78419                 \n",
       "  show_externals_imdb\n",
       "1 tt0063951          \n",
       "  show_image_medium                                                     \n",
       "1 http://static.tvmaze.com/uploads/images/medium_portrait/222/555972.jpg\n",
       "  show_image_original                                                      \n",
       "1 http://static.tvmaze.com/uploads/images/original_untouched/222/555972.jpg\n",
       "  show_links_self_href             show_links_previousepisode_href       \n",
       "1 http://api.tvmaze.com/shows/6544 http://api.tvmaze.com/episodes/1881736"
      ]
     },
     "metadata": {},
     "output_type": "display_data"
    }
   ],
   "source": [
    "# Mit jsonlite in einen Tibble umwandeln\n",
    "df <- fromJSON(my_content, flatten = TRUE) %>%\n",
    "  as_tibble(.name_repair = janitor::make_clean_names) \n",
    "\n",
    "# Datensatz anzeigen\n",
    "head(df)"
   ]
  },
  {
   "cell_type": "code",
   "execution_count": 6,
   "metadata": {
    "id": "wmTRk3F0HzPc",
    "scrolled": true
   },
   "outputs": [
    {
     "data": {
      "text/html": [
       "<table>\n",
       "<caption>A tibble: 10 × 35</caption>\n",
       "<thead>\n",
       "\t<tr><th scope=col>score</th><th scope=col>show_id</th><th scope=col>show_url</th><th scope=col>show_name</th><th scope=col>show_type</th><th scope=col>show_language</th><th scope=col>show_genres</th><th scope=col>show_status</th><th scope=col>show_runtime</th><th scope=col>show_premiered</th><th scope=col>⋯</th><th scope=col>show_web_channel_country_code</th><th scope=col>show_web_channel_country_timezone</th><th scope=col>show_externals_tvrage</th><th scope=col>show_externals_thetvdb</th><th scope=col>show_externals_imdb</th><th scope=col>show_image_medium</th><th scope=col>show_image_original</th><th scope=col>show_links_self_href</th><th scope=col>show_links_previousepisode_href</th><th scope=col>show_links_nextepisode_href</th></tr>\n",
       "\t<tr><th scope=col>&lt;dbl&gt;</th><th scope=col>&lt;int&gt;</th><th scope=col>&lt;chr&gt;</th><th scope=col>&lt;chr&gt;</th><th scope=col>&lt;chr&gt;</th><th scope=col>&lt;chr&gt;</th><th scope=col>&lt;list&gt;</th><th scope=col>&lt;chr&gt;</th><th scope=col>&lt;int&gt;</th><th scope=col>&lt;chr&gt;</th><th scope=col>⋯</th><th scope=col>&lt;chr&gt;</th><th scope=col>&lt;chr&gt;</th><th scope=col>&lt;int&gt;</th><th scope=col>&lt;int&gt;</th><th scope=col>&lt;chr&gt;</th><th scope=col>&lt;chr&gt;</th><th scope=col>&lt;chr&gt;</th><th scope=col>&lt;chr&gt;</th><th scope=col>&lt;chr&gt;</th><th scope=col>&lt;chr&gt;</th></tr>\n",
       "</thead>\n",
       "<tbody>\n",
       "\t<tr><td>13.130171</td><td> 6765</td><td>http://www.tvmaze.com/shows/6765/love             </td><td>Love            </td><td>Scripted   </td><td>English</td><td>Drama , Comedy</td><td>Ended           </td><td>32</td><td>2016-02-19</td><td>⋯</td><td>NA</td><td>NA              </td><td>45061</td><td>305378</td><td>tt4061080 </td><td>http://static.tvmaze.com/uploads/images/medium_portrait/146/366945.jpg</td><td>http://static.tvmaze.com/uploads/images/original_untouched/146/366945.jpg</td><td>http://api.tvmaze.com/shows/6765 </td><td>http://api.tvmaze.com/episodes/1422794</td><td>NA                                    </td></tr>\n",
       "\t<tr><td>10.514230</td><td>43590</td><td><span style=white-space:pre-wrap>http://www.tvmaze.com/shows/43590/love-anarchy    </span></td><td><span style=white-space:pre-wrap>Love &amp; Anarchy  </span></td><td><span style=white-space:pre-wrap>Scripted   </span></td><td>Swedish</td><td><span style=white-space:pre-wrap>Drama  , Comedy , Romance</span></td><td><span style=white-space:pre-wrap>In Development  </span></td><td>NA</td><td>2020-11-04</td><td>⋯</td><td>NA</td><td><span style=white-space:pre-wrap>NA              </span></td><td><span style=white-space:pre-wrap>   NA</span></td><td><span style=white-space:pre-wrap>    NA</span></td><td><span style=white-space:pre-wrap>NA        </span></td><td>http://static.tvmaze.com/uploads/images/medium_portrait/277/693267.jpg</td><td>http://static.tvmaze.com/uploads/images/original_untouched/277/693267.jpg</td><td>http://api.tvmaze.com/shows/43590</td><td><span style=white-space:pre-wrap>NA                                    </span></td><td>http://api.tvmaze.com/episodes/1945977</td></tr>\n",
       "\t<tr><td>10.417110</td><td>42848</td><td>http://www.tvmaze.com/shows/42848/love-life       </td><td>Love Life       </td><td>Scripted   </td><td>English</td><td>Drama  , Romance</td><td>Running         </td><td>30</td><td>2020-05-27</td><td>⋯</td><td>US</td><td>America/New_York</td><td>   NA</td><td>374515</td><td>tt10380768</td><td>http://static.tvmaze.com/uploads/images/medium_portrait/256/641662.jpg</td><td>http://static.tvmaze.com/uploads/images/original_untouched/256/641662.jpg</td><td>http://api.tvmaze.com/shows/42848</td><td>http://api.tvmaze.com/episodes/1874672</td><td>NA                                    </td></tr>\n",
       "\t<tr><td>10.314619</td><td>46106</td><td>http://www.tvmaze.com/shows/46106/love-fraud      </td><td>Love Fraud      </td><td>Documentary</td><td>English</td><td>Crime</td><td>To Be Determined</td><td>60</td><td>2020-08-30</td><td>⋯</td><td>NA</td><td>NA              </td><td>   NA</td><td>376355</td><td>tt11457812</td><td>http://static.tvmaze.com/uploads/images/medium_portrait/256/641424.jpg</td><td>http://static.tvmaze.com/uploads/images/original_untouched/256/641424.jpg</td><td>http://api.tvmaze.com/shows/46106</td><td>http://api.tvmaze.com/episodes/1915607</td><td>NA                                    </td></tr>\n",
       "\t<tr><td>10.271765</td><td>48356</td><td>http://www.tvmaze.com/shows/48356/love-designer   </td><td>Love Designer   </td><td>Scripted   </td><td>Chinese</td><td>Drama  , Food   , Romance</td><td>Ended           </td><td>45</td><td>2020-05-19</td><td>⋯</td><td>CN</td><td>Asia/Shanghai   </td><td>   NA</td><td>382329</td><td>tt11743112</td><td>http://static.tvmaze.com/uploads/images/medium_portrait/258/646749.jpg</td><td>http://static.tvmaze.com/uploads/images/original_untouched/258/646749.jpg</td><td>http://api.tvmaze.com/shows/48356</td><td>http://api.tvmaze.com/episodes/1887953</td><td>NA                                    </td></tr>\n",
       "\t<tr><td>10.245119</td><td>49948</td><td>http://www.tvmaze.com/shows/49948/love-revolution </td><td>Love Revolution </td><td>Scripted   </td><td>Korean </td><td>Drama  , Comedy , Romance</td><td>Running         </td><td>20</td><td>2020-09-01</td><td>⋯</td><td>KR</td><td>Asia/Seoul      </td><td>   NA</td><td>386111</td><td>NA        </td><td>http://static.tvmaze.com/uploads/images/medium_portrait/269/674781.jpg</td><td>http://static.tvmaze.com/uploads/images/original_untouched/269/674781.jpg</td><td>http://api.tvmaze.com/shows/49948</td><td>http://api.tvmaze.com/episodes/1956481</td><td>NA                                    </td></tr>\n",
       "\t<tr><td>10.205962</td><td>37120</td><td>http://www.tvmaze.com/shows/37120/modern-love     </td><td>Modern Love     </td><td>Scripted   </td><td>English</td><td>Comedy , Romance</td><td>Running         </td><td>NA</td><td>2019-10-18</td><td>⋯</td><td>NA</td><td>NA              </td><td>   NA</td><td>357222</td><td>tt8543390 </td><td>http://static.tvmaze.com/uploads/images/medium_portrait/216/540345.jpg</td><td>http://static.tvmaze.com/uploads/images/original_untouched/216/540345.jpg</td><td>http://api.tvmaze.com/shows/37120</td><td>http://api.tvmaze.com/episodes/1718415</td><td>NA                                    </td></tr>\n",
       "\t<tr><td>10.172996</td><td>42289</td><td>http://www.tvmaze.com/shows/42289/love-island     </td><td>Love Island     </td><td>Reality    </td><td>English</td><td>Romance</td><td>Running         </td><td>60</td><td>2019-07-09</td><td>⋯</td><td>NA</td><td>NA              </td><td>   NA</td><td>364107</td><td>tt8819906 </td><td>http://static.tvmaze.com/uploads/images/medium_portrait/267/668786.jpg</td><td>http://static.tvmaze.com/uploads/images/original_untouched/267/668786.jpg</td><td>http://api.tvmaze.com/shows/42289</td><td>http://api.tvmaze.com/episodes/1932802</td><td>NA                                    </td></tr>\n",
       "\t<tr><td>10.134181</td><td>49823</td><td>http://www.tvmaze.com/shows/49823/calculating-love</td><td>Calculating Love</td><td>Scripted   </td><td>Thai   </td><td>Drama  , Romance</td><td>Running         </td><td>15</td><td>2020-07-18</td><td>⋯</td><td>NA</td><td>NA              </td><td>   NA</td><td>385709</td><td>NA        </td><td>http://static.tvmaze.com/uploads/images/medium_portrait/277/694279.jpg</td><td>http://static.tvmaze.com/uploads/images/original_untouched/277/694279.jpg</td><td>http://api.tvmaze.com/shows/49823</td><td>http://api.tvmaze.com/episodes/1939821</td><td>http://api.tvmaze.com/episodes/1957978</td></tr>\n",
       "\t<tr><td> 9.959818</td><td>11363</td><td>http://www.tvmaze.com/shows/11363/love-island     </td><td>Love Island     </td><td>Reality    </td><td>English</td><td>Romance</td><td>Running         </td><td>60</td><td>2015-06-07</td><td>⋯</td><td>NA</td><td>NA              </td><td>   NA</td><td>296669</td><td>tt4770018 </td><td>http://static.tvmaze.com/uploads/images/medium_portrait/207/518836.jpg</td><td>http://static.tvmaze.com/uploads/images/original_untouched/207/518836.jpg</td><td>http://api.tvmaze.com/shows/11363</td><td>http://api.tvmaze.com/episodes/1806398</td><td>NA                                    </td></tr>\n",
       "</tbody>\n",
       "</table>\n"
      ],
      "text/latex": [
       "A tibble: 10 × 35\n",
       "\\begin{tabular}{lllllllllllllllllllll}\n",
       " score & show\\_id & show\\_url & show\\_name & show\\_type & show\\_language & show\\_genres & show\\_status & show\\_runtime & show\\_premiered & ⋯ & show\\_web\\_channel\\_country\\_code & show\\_web\\_channel\\_country\\_timezone & show\\_externals\\_tvrage & show\\_externals\\_thetvdb & show\\_externals\\_imdb & show\\_image\\_medium & show\\_image\\_original & show\\_links\\_self\\_href & show\\_links\\_previousepisode\\_href & show\\_links\\_nextepisode\\_href\\\\\n",
       " <dbl> & <int> & <chr> & <chr> & <chr> & <chr> & <list> & <chr> & <int> & <chr> & ⋯ & <chr> & <chr> & <int> & <int> & <chr> & <chr> & <chr> & <chr> & <chr> & <chr>\\\\\n",
       "\\hline\n",
       "\t 13.130171 &  6765 & http://www.tvmaze.com/shows/6765/love              & Love             & Scripted    & English & Drama , Comedy & Ended            & 32 & 2016-02-19 & ⋯ & NA & NA               & 45061 & 305378 & tt4061080  & http://static.tvmaze.com/uploads/images/medium\\_portrait/146/366945.jpg & http://static.tvmaze.com/uploads/images/original\\_untouched/146/366945.jpg & http://api.tvmaze.com/shows/6765  & http://api.tvmaze.com/episodes/1422794 & NA                                    \\\\\n",
       "\t 10.514230 & 43590 & http://www.tvmaze.com/shows/43590/love-anarchy     & Love \\& Anarchy   & Scripted    & Swedish & Drama  , Comedy , Romance & In Development   & NA & 2020-11-04 & ⋯ & NA & NA               &    NA &     NA & NA         & http://static.tvmaze.com/uploads/images/medium\\_portrait/277/693267.jpg & http://static.tvmaze.com/uploads/images/original\\_untouched/277/693267.jpg & http://api.tvmaze.com/shows/43590 & NA                                     & http://api.tvmaze.com/episodes/1945977\\\\\n",
       "\t 10.417110 & 42848 & http://www.tvmaze.com/shows/42848/love-life        & Love Life        & Scripted    & English & Drama  , Romance & Running          & 30 & 2020-05-27 & ⋯ & US & America/New\\_York &    NA & 374515 & tt10380768 & http://static.tvmaze.com/uploads/images/medium\\_portrait/256/641662.jpg & http://static.tvmaze.com/uploads/images/original\\_untouched/256/641662.jpg & http://api.tvmaze.com/shows/42848 & http://api.tvmaze.com/episodes/1874672 & NA                                    \\\\\n",
       "\t 10.314619 & 46106 & http://www.tvmaze.com/shows/46106/love-fraud       & Love Fraud       & Documentary & English & Crime & To Be Determined & 60 & 2020-08-30 & ⋯ & NA & NA               &    NA & 376355 & tt11457812 & http://static.tvmaze.com/uploads/images/medium\\_portrait/256/641424.jpg & http://static.tvmaze.com/uploads/images/original\\_untouched/256/641424.jpg & http://api.tvmaze.com/shows/46106 & http://api.tvmaze.com/episodes/1915607 & NA                                    \\\\\n",
       "\t 10.271765 & 48356 & http://www.tvmaze.com/shows/48356/love-designer    & Love Designer    & Scripted    & Chinese & Drama  , Food   , Romance & Ended            & 45 & 2020-05-19 & ⋯ & CN & Asia/Shanghai    &    NA & 382329 & tt11743112 & http://static.tvmaze.com/uploads/images/medium\\_portrait/258/646749.jpg & http://static.tvmaze.com/uploads/images/original\\_untouched/258/646749.jpg & http://api.tvmaze.com/shows/48356 & http://api.tvmaze.com/episodes/1887953 & NA                                    \\\\\n",
       "\t 10.245119 & 49948 & http://www.tvmaze.com/shows/49948/love-revolution  & Love Revolution  & Scripted    & Korean  & Drama  , Comedy , Romance & Running          & 20 & 2020-09-01 & ⋯ & KR & Asia/Seoul       &    NA & 386111 & NA         & http://static.tvmaze.com/uploads/images/medium\\_portrait/269/674781.jpg & http://static.tvmaze.com/uploads/images/original\\_untouched/269/674781.jpg & http://api.tvmaze.com/shows/49948 & http://api.tvmaze.com/episodes/1956481 & NA                                    \\\\\n",
       "\t 10.205962 & 37120 & http://www.tvmaze.com/shows/37120/modern-love      & Modern Love      & Scripted    & English & Comedy , Romance & Running          & NA & 2019-10-18 & ⋯ & NA & NA               &    NA & 357222 & tt8543390  & http://static.tvmaze.com/uploads/images/medium\\_portrait/216/540345.jpg & http://static.tvmaze.com/uploads/images/original\\_untouched/216/540345.jpg & http://api.tvmaze.com/shows/37120 & http://api.tvmaze.com/episodes/1718415 & NA                                    \\\\\n",
       "\t 10.172996 & 42289 & http://www.tvmaze.com/shows/42289/love-island      & Love Island      & Reality     & English & Romance & Running          & 60 & 2019-07-09 & ⋯ & NA & NA               &    NA & 364107 & tt8819906  & http://static.tvmaze.com/uploads/images/medium\\_portrait/267/668786.jpg & http://static.tvmaze.com/uploads/images/original\\_untouched/267/668786.jpg & http://api.tvmaze.com/shows/42289 & http://api.tvmaze.com/episodes/1932802 & NA                                    \\\\\n",
       "\t 10.134181 & 49823 & http://www.tvmaze.com/shows/49823/calculating-love & Calculating Love & Scripted    & Thai    & Drama  , Romance & Running          & 15 & 2020-07-18 & ⋯ & NA & NA               &    NA & 385709 & NA         & http://static.tvmaze.com/uploads/images/medium\\_portrait/277/694279.jpg & http://static.tvmaze.com/uploads/images/original\\_untouched/277/694279.jpg & http://api.tvmaze.com/shows/49823 & http://api.tvmaze.com/episodes/1939821 & http://api.tvmaze.com/episodes/1957978\\\\\n",
       "\t  9.959818 & 11363 & http://www.tvmaze.com/shows/11363/love-island      & Love Island      & Reality     & English & Romance & Running          & 60 & 2015-06-07 & ⋯ & NA & NA               &    NA & 296669 & tt4770018  & http://static.tvmaze.com/uploads/images/medium\\_portrait/207/518836.jpg & http://static.tvmaze.com/uploads/images/original\\_untouched/207/518836.jpg & http://api.tvmaze.com/shows/11363 & http://api.tvmaze.com/episodes/1806398 & NA                                    \\\\\n",
       "\\end{tabular}\n"
      ],
      "text/markdown": [
       "\n",
       "A tibble: 10 × 35\n",
       "\n",
       "| score &lt;dbl&gt; | show_id &lt;int&gt; | show_url &lt;chr&gt; | show_name &lt;chr&gt; | show_type &lt;chr&gt; | show_language &lt;chr&gt; | show_genres &lt;list&gt; | show_status &lt;chr&gt; | show_runtime &lt;int&gt; | show_premiered &lt;chr&gt; | ⋯ ⋯ | show_web_channel_country_code &lt;chr&gt; | show_web_channel_country_timezone &lt;chr&gt; | show_externals_tvrage &lt;int&gt; | show_externals_thetvdb &lt;int&gt; | show_externals_imdb &lt;chr&gt; | show_image_medium &lt;chr&gt; | show_image_original &lt;chr&gt; | show_links_self_href &lt;chr&gt; | show_links_previousepisode_href &lt;chr&gt; | show_links_nextepisode_href &lt;chr&gt; |\n",
       "|---|---|---|---|---|---|---|---|---|---|---|---|---|---|---|---|---|---|---|---|---|\n",
       "| 13.130171 |  6765 | http://www.tvmaze.com/shows/6765/love              | Love             | Scripted    | English | Drama , Comedy | Ended            | 32 | 2016-02-19 | ⋯ | NA | NA               | 45061 | 305378 | tt4061080  | http://static.tvmaze.com/uploads/images/medium_portrait/146/366945.jpg | http://static.tvmaze.com/uploads/images/original_untouched/146/366945.jpg | http://api.tvmaze.com/shows/6765  | http://api.tvmaze.com/episodes/1422794 | NA                                     |\n",
       "| 10.514230 | 43590 | http://www.tvmaze.com/shows/43590/love-anarchy     | Love &amp; Anarchy   | Scripted    | Swedish | Drama  , Comedy , Romance | In Development   | NA | 2020-11-04 | ⋯ | NA | NA               |    NA |     NA | NA         | http://static.tvmaze.com/uploads/images/medium_portrait/277/693267.jpg | http://static.tvmaze.com/uploads/images/original_untouched/277/693267.jpg | http://api.tvmaze.com/shows/43590 | NA                                     | http://api.tvmaze.com/episodes/1945977 |\n",
       "| 10.417110 | 42848 | http://www.tvmaze.com/shows/42848/love-life        | Love Life        | Scripted    | English | Drama  , Romance | Running          | 30 | 2020-05-27 | ⋯ | US | America/New_York |    NA | 374515 | tt10380768 | http://static.tvmaze.com/uploads/images/medium_portrait/256/641662.jpg | http://static.tvmaze.com/uploads/images/original_untouched/256/641662.jpg | http://api.tvmaze.com/shows/42848 | http://api.tvmaze.com/episodes/1874672 | NA                                     |\n",
       "| 10.314619 | 46106 | http://www.tvmaze.com/shows/46106/love-fraud       | Love Fraud       | Documentary | English | Crime | To Be Determined | 60 | 2020-08-30 | ⋯ | NA | NA               |    NA | 376355 | tt11457812 | http://static.tvmaze.com/uploads/images/medium_portrait/256/641424.jpg | http://static.tvmaze.com/uploads/images/original_untouched/256/641424.jpg | http://api.tvmaze.com/shows/46106 | http://api.tvmaze.com/episodes/1915607 | NA                                     |\n",
       "| 10.271765 | 48356 | http://www.tvmaze.com/shows/48356/love-designer    | Love Designer    | Scripted    | Chinese | Drama  , Food   , Romance | Ended            | 45 | 2020-05-19 | ⋯ | CN | Asia/Shanghai    |    NA | 382329 | tt11743112 | http://static.tvmaze.com/uploads/images/medium_portrait/258/646749.jpg | http://static.tvmaze.com/uploads/images/original_untouched/258/646749.jpg | http://api.tvmaze.com/shows/48356 | http://api.tvmaze.com/episodes/1887953 | NA                                     |\n",
       "| 10.245119 | 49948 | http://www.tvmaze.com/shows/49948/love-revolution  | Love Revolution  | Scripted    | Korean  | Drama  , Comedy , Romance | Running          | 20 | 2020-09-01 | ⋯ | KR | Asia/Seoul       |    NA | 386111 | NA         | http://static.tvmaze.com/uploads/images/medium_portrait/269/674781.jpg | http://static.tvmaze.com/uploads/images/original_untouched/269/674781.jpg | http://api.tvmaze.com/shows/49948 | http://api.tvmaze.com/episodes/1956481 | NA                                     |\n",
       "| 10.205962 | 37120 | http://www.tvmaze.com/shows/37120/modern-love      | Modern Love      | Scripted    | English | Comedy , Romance | Running          | NA | 2019-10-18 | ⋯ | NA | NA               |    NA | 357222 | tt8543390  | http://static.tvmaze.com/uploads/images/medium_portrait/216/540345.jpg | http://static.tvmaze.com/uploads/images/original_untouched/216/540345.jpg | http://api.tvmaze.com/shows/37120 | http://api.tvmaze.com/episodes/1718415 | NA                                     |\n",
       "| 10.172996 | 42289 | http://www.tvmaze.com/shows/42289/love-island      | Love Island      | Reality     | English | Romance | Running          | 60 | 2019-07-09 | ⋯ | NA | NA               |    NA | 364107 | tt8819906  | http://static.tvmaze.com/uploads/images/medium_portrait/267/668786.jpg | http://static.tvmaze.com/uploads/images/original_untouched/267/668786.jpg | http://api.tvmaze.com/shows/42289 | http://api.tvmaze.com/episodes/1932802 | NA                                     |\n",
       "| 10.134181 | 49823 | http://www.tvmaze.com/shows/49823/calculating-love | Calculating Love | Scripted    | Thai    | Drama  , Romance | Running          | 15 | 2020-07-18 | ⋯ | NA | NA               |    NA | 385709 | NA         | http://static.tvmaze.com/uploads/images/medium_portrait/277/694279.jpg | http://static.tvmaze.com/uploads/images/original_untouched/277/694279.jpg | http://api.tvmaze.com/shows/49823 | http://api.tvmaze.com/episodes/1939821 | http://api.tvmaze.com/episodes/1957978 |\n",
       "|  9.959818 | 11363 | http://www.tvmaze.com/shows/11363/love-island      | Love Island      | Reality     | English | Romance | Running          | 60 | 2015-06-07 | ⋯ | NA | NA               |    NA | 296669 | tt4770018  | http://static.tvmaze.com/uploads/images/medium_portrait/207/518836.jpg | http://static.tvmaze.com/uploads/images/original_untouched/207/518836.jpg | http://api.tvmaze.com/shows/11363 | http://api.tvmaze.com/episodes/1806398 | NA                                     |\n",
       "\n"
      ],
      "text/plain": [
       "   score     show_id show_url                                          \n",
       "1  13.130171  6765   http://www.tvmaze.com/shows/6765/love             \n",
       "2  10.514230 43590   http://www.tvmaze.com/shows/43590/love-anarchy    \n",
       "3  10.417110 42848   http://www.tvmaze.com/shows/42848/love-life       \n",
       "4  10.314619 46106   http://www.tvmaze.com/shows/46106/love-fraud      \n",
       "5  10.271765 48356   http://www.tvmaze.com/shows/48356/love-designer   \n",
       "6  10.245119 49948   http://www.tvmaze.com/shows/49948/love-revolution \n",
       "7  10.205962 37120   http://www.tvmaze.com/shows/37120/modern-love     \n",
       "8  10.172996 42289   http://www.tvmaze.com/shows/42289/love-island     \n",
       "9  10.134181 49823   http://www.tvmaze.com/shows/49823/calculating-love\n",
       "10  9.959818 11363   http://www.tvmaze.com/shows/11363/love-island     \n",
       "   show_name        show_type   show_language show_genres              \n",
       "1  Love             Scripted    English       Drama , Comedy           \n",
       "2  Love & Anarchy   Scripted    Swedish       Drama  , Comedy , Romance\n",
       "3  Love Life        Scripted    English       Drama  , Romance         \n",
       "4  Love Fraud       Documentary English       Crime                    \n",
       "5  Love Designer    Scripted    Chinese       Drama  , Food   , Romance\n",
       "6  Love Revolution  Scripted    Korean        Drama  , Comedy , Romance\n",
       "7  Modern Love      Scripted    English       Comedy , Romance         \n",
       "8  Love Island      Reality     English       Romance                  \n",
       "9  Calculating Love Scripted    Thai          Drama  , Romance         \n",
       "10 Love Island      Reality     English       Romance                  \n",
       "   show_status      show_runtime show_premiered ⋯ show_web_channel_country_code\n",
       "1  Ended            32           2016-02-19     ⋯ NA                           \n",
       "2  In Development   NA           2020-11-04     ⋯ NA                           \n",
       "3  Running          30           2020-05-27     ⋯ US                           \n",
       "4  To Be Determined 60           2020-08-30     ⋯ NA                           \n",
       "5  Ended            45           2020-05-19     ⋯ CN                           \n",
       "6  Running          20           2020-09-01     ⋯ KR                           \n",
       "7  Running          NA           2019-10-18     ⋯ NA                           \n",
       "8  Running          60           2019-07-09     ⋯ NA                           \n",
       "9  Running          15           2020-07-18     ⋯ NA                           \n",
       "10 Running          60           2015-06-07     ⋯ NA                           \n",
       "   show_web_channel_country_timezone show_externals_tvrage\n",
       "1  NA                                45061                \n",
       "2  NA                                   NA                \n",
       "3  America/New_York                     NA                \n",
       "4  NA                                   NA                \n",
       "5  Asia/Shanghai                        NA                \n",
       "6  Asia/Seoul                           NA                \n",
       "7  NA                                   NA                \n",
       "8  NA                                   NA                \n",
       "9  NA                                   NA                \n",
       "10 NA                                   NA                \n",
       "   show_externals_thetvdb show_externals_imdb\n",
       "1  305378                 tt4061080          \n",
       "2      NA                 NA                 \n",
       "3  374515                 tt10380768         \n",
       "4  376355                 tt11457812         \n",
       "5  382329                 tt11743112         \n",
       "6  386111                 NA                 \n",
       "7  357222                 tt8543390          \n",
       "8  364107                 tt8819906          \n",
       "9  385709                 NA                 \n",
       "10 296669                 tt4770018          \n",
       "   show_image_medium                                                     \n",
       "1  http://static.tvmaze.com/uploads/images/medium_portrait/146/366945.jpg\n",
       "2  http://static.tvmaze.com/uploads/images/medium_portrait/277/693267.jpg\n",
       "3  http://static.tvmaze.com/uploads/images/medium_portrait/256/641662.jpg\n",
       "4  http://static.tvmaze.com/uploads/images/medium_portrait/256/641424.jpg\n",
       "5  http://static.tvmaze.com/uploads/images/medium_portrait/258/646749.jpg\n",
       "6  http://static.tvmaze.com/uploads/images/medium_portrait/269/674781.jpg\n",
       "7  http://static.tvmaze.com/uploads/images/medium_portrait/216/540345.jpg\n",
       "8  http://static.tvmaze.com/uploads/images/medium_portrait/267/668786.jpg\n",
       "9  http://static.tvmaze.com/uploads/images/medium_portrait/277/694279.jpg\n",
       "10 http://static.tvmaze.com/uploads/images/medium_portrait/207/518836.jpg\n",
       "   show_image_original                                                      \n",
       "1  http://static.tvmaze.com/uploads/images/original_untouched/146/366945.jpg\n",
       "2  http://static.tvmaze.com/uploads/images/original_untouched/277/693267.jpg\n",
       "3  http://static.tvmaze.com/uploads/images/original_untouched/256/641662.jpg\n",
       "4  http://static.tvmaze.com/uploads/images/original_untouched/256/641424.jpg\n",
       "5  http://static.tvmaze.com/uploads/images/original_untouched/258/646749.jpg\n",
       "6  http://static.tvmaze.com/uploads/images/original_untouched/269/674781.jpg\n",
       "7  http://static.tvmaze.com/uploads/images/original_untouched/216/540345.jpg\n",
       "8  http://static.tvmaze.com/uploads/images/original_untouched/267/668786.jpg\n",
       "9  http://static.tvmaze.com/uploads/images/original_untouched/277/694279.jpg\n",
       "10 http://static.tvmaze.com/uploads/images/original_untouched/207/518836.jpg\n",
       "   show_links_self_href              show_links_previousepisode_href       \n",
       "1  http://api.tvmaze.com/shows/6765  http://api.tvmaze.com/episodes/1422794\n",
       "2  http://api.tvmaze.com/shows/43590 NA                                    \n",
       "3  http://api.tvmaze.com/shows/42848 http://api.tvmaze.com/episodes/1874672\n",
       "4  http://api.tvmaze.com/shows/46106 http://api.tvmaze.com/episodes/1915607\n",
       "5  http://api.tvmaze.com/shows/48356 http://api.tvmaze.com/episodes/1887953\n",
       "6  http://api.tvmaze.com/shows/49948 http://api.tvmaze.com/episodes/1956481\n",
       "7  http://api.tvmaze.com/shows/37120 http://api.tvmaze.com/episodes/1718415\n",
       "8  http://api.tvmaze.com/shows/42289 http://api.tvmaze.com/episodes/1932802\n",
       "9  http://api.tvmaze.com/shows/49823 http://api.tvmaze.com/episodes/1939821\n",
       "10 http://api.tvmaze.com/shows/11363 http://api.tvmaze.com/episodes/1806398\n",
       "   show_links_nextepisode_href           \n",
       "1  NA                                    \n",
       "2  http://api.tvmaze.com/episodes/1945977\n",
       "3  NA                                    \n",
       "4  NA                                    \n",
       "5  NA                                    \n",
       "6  NA                                    \n",
       "7  NA                                    \n",
       "8  NA                                    \n",
       "9  http://api.tvmaze.com/episodes/1957978\n",
       "10 NA                                    "
      ]
     },
     "metadata": {},
     "output_type": "display_data"
    }
   ],
   "source": [
    "# GET-Request mit httr\n",
    "love_response <- GET(url = \"http://api.tvmaze.com/\",\n",
    "                    path = \"search/shows\",\n",
    "                    query = list(\n",
    "                      q = \"Love\"\n",
    "                    ))\n",
    "\n",
    "# Mit jsonlite in einen Tibble umwandeln\n",
    "df_love <- content(love_response, as = \"text\") %>%\n",
    "      fromJSON(flatten = TRUE) %>%\n",
    "      as_tibble(.name_repair = janitor::make_clean_names) \n",
    "\n",
    "# Ergebnisdatensatz anzeigen\n",
    "head(df_love, 10)"
   ]
  },
  {
   "cell_type": "code",
   "execution_count": 7,
   "metadata": {
    "id": "qie1dngvFrqL"
   },
   "outputs": [
    {
     "name": "stdout",
     "output_type": "stream",
     "text": [
      "[1] \"Der Datensatz hat 1164 Einträge.\"\n"
     ]
    },
    {
     "data": {
      "text/html": [
       "<table>\n",
       "<caption>A tibble: 10 × 14</caption>\n",
       "<thead>\n",
       "\t<tr><th scope=col>id</th><th scope=col>url</th><th scope=col>name</th><th scope=col>season</th><th scope=col>number</th><th scope=col>type</th><th scope=col>airdate</th><th scope=col>airtime</th><th scope=col>airstamp</th><th scope=col>runtime</th><th scope=col>summary</th><th scope=col>image_medium</th><th scope=col>image_original</th><th scope=col>links_self_href</th></tr>\n",
       "\t<tr><th scope=col>&lt;int&gt;</th><th scope=col>&lt;chr&gt;</th><th scope=col>&lt;chr&gt;</th><th scope=col>&lt;int&gt;</th><th scope=col>&lt;int&gt;</th><th scope=col>&lt;chr&gt;</th><th scope=col>&lt;chr&gt;</th><th scope=col>&lt;chr&gt;</th><th scope=col>&lt;chr&gt;</th><th scope=col>&lt;int&gt;</th><th scope=col>&lt;chr&gt;</th><th scope=col>&lt;chr&gt;</th><th scope=col>&lt;chr&gt;</th><th scope=col>&lt;chr&gt;</th></tr>\n",
       "</thead>\n",
       "<tbody>\n",
       "\t<tr><td>385427</td><td>http://www.tvmaze.com/episodes/385427/sesame-street-1x01-episode-1 </td><td>Episode 1 </td><td>1</td><td> 1</td><td>regular</td><td>1969-11-10</td><td>07:00</td><td>1969-11-10T12:00:00+00:00</td><td>60</td><td></td><td>NA</td><td>NA</td><td>http://api.tvmaze.com/episodes/385427</td></tr>\n",
       "\t<tr><td>385428</td><td>http://www.tvmaze.com/episodes/385428/sesame-street-1x02-episode-2 </td><td>Episode 2 </td><td>1</td><td> 2</td><td>regular</td><td>1969-11-11</td><td>07:00</td><td>1969-11-11T12:00:00+00:00</td><td>60</td><td></td><td>NA</td><td>NA</td><td>http://api.tvmaze.com/episodes/385428</td></tr>\n",
       "\t<tr><td>385429</td><td>http://www.tvmaze.com/episodes/385429/sesame-street-1x03-episode-3 </td><td>Episode 3 </td><td>1</td><td> 3</td><td>regular</td><td>1969-11-12</td><td>07:00</td><td>1969-11-12T12:00:00+00:00</td><td>60</td><td></td><td>NA</td><td>NA</td><td>http://api.tvmaze.com/episodes/385429</td></tr>\n",
       "\t<tr><td>385430</td><td>http://www.tvmaze.com/episodes/385430/sesame-street-1x04-episode-4 </td><td>Episode 4 </td><td>1</td><td> 4</td><td>regular</td><td>1969-11-13</td><td>07:00</td><td>1969-11-13T12:00:00+00:00</td><td>60</td><td></td><td>NA</td><td>NA</td><td>http://api.tvmaze.com/episodes/385430</td></tr>\n",
       "\t<tr><td>385431</td><td>http://www.tvmaze.com/episodes/385431/sesame-street-1x05-episode-5 </td><td>Episode 5 </td><td>1</td><td> 5</td><td>regular</td><td>1969-11-14</td><td>07:00</td><td>1969-11-14T12:00:00+00:00</td><td>60</td><td></td><td>NA</td><td>NA</td><td>http://api.tvmaze.com/episodes/385431</td></tr>\n",
       "\t<tr><td>385432</td><td>http://www.tvmaze.com/episodes/385432/sesame-street-1x06-episode-6 </td><td>Episode 6 </td><td>1</td><td> 6</td><td>regular</td><td>1969-11-17</td><td>07:00</td><td>1969-11-17T12:00:00+00:00</td><td>60</td><td></td><td>NA</td><td>NA</td><td>http://api.tvmaze.com/episodes/385432</td></tr>\n",
       "\t<tr><td>385433</td><td>http://www.tvmaze.com/episodes/385433/sesame-street-1x07-episode-7 </td><td>Episode 7 </td><td>1</td><td> 7</td><td>regular</td><td>1969-11-18</td><td>07:00</td><td>1969-11-18T12:00:00+00:00</td><td>60</td><td></td><td>NA</td><td>NA</td><td>http://api.tvmaze.com/episodes/385433</td></tr>\n",
       "\t<tr><td>385434</td><td>http://www.tvmaze.com/episodes/385434/sesame-street-1x08-episode-8 </td><td>Episode 8 </td><td>1</td><td> 8</td><td>regular</td><td>1969-11-19</td><td>07:00</td><td>1969-11-19T12:00:00+00:00</td><td>60</td><td></td><td>NA</td><td>NA</td><td>http://api.tvmaze.com/episodes/385434</td></tr>\n",
       "\t<tr><td>385435</td><td>http://www.tvmaze.com/episodes/385435/sesame-street-1x09-episode-9 </td><td>Episode 9 </td><td>1</td><td> 9</td><td>regular</td><td>1969-11-20</td><td>07:00</td><td>1969-11-20T12:00:00+00:00</td><td>60</td><td></td><td>NA</td><td>NA</td><td>http://api.tvmaze.com/episodes/385435</td></tr>\n",
       "\t<tr><td>385436</td><td>http://www.tvmaze.com/episodes/385436/sesame-street-1x10-episode-10</td><td>Episode 10</td><td>1</td><td>10</td><td>regular</td><td>1969-11-21</td><td>07:00</td><td>1969-11-21T12:00:00+00:00</td><td>60</td><td></td><td>NA</td><td>NA</td><td>http://api.tvmaze.com/episodes/385436</td></tr>\n",
       "</tbody>\n",
       "</table>\n"
      ],
      "text/latex": [
       "A tibble: 10 × 14\n",
       "\\begin{tabular}{llllllllllllll}\n",
       " id & url & name & season & number & type & airdate & airtime & airstamp & runtime & summary & image\\_medium & image\\_original & links\\_self\\_href\\\\\n",
       " <int> & <chr> & <chr> & <int> & <int> & <chr> & <chr> & <chr> & <chr> & <int> & <chr> & <chr> & <chr> & <chr>\\\\\n",
       "\\hline\n",
       "\t 385427 & http://www.tvmaze.com/episodes/385427/sesame-street-1x01-episode-1  & Episode 1  & 1 &  1 & regular & 1969-11-10 & 07:00 & 1969-11-10T12:00:00+00:00 & 60 &  & NA & NA & http://api.tvmaze.com/episodes/385427\\\\\n",
       "\t 385428 & http://www.tvmaze.com/episodes/385428/sesame-street-1x02-episode-2  & Episode 2  & 1 &  2 & regular & 1969-11-11 & 07:00 & 1969-11-11T12:00:00+00:00 & 60 &  & NA & NA & http://api.tvmaze.com/episodes/385428\\\\\n",
       "\t 385429 & http://www.tvmaze.com/episodes/385429/sesame-street-1x03-episode-3  & Episode 3  & 1 &  3 & regular & 1969-11-12 & 07:00 & 1969-11-12T12:00:00+00:00 & 60 &  & NA & NA & http://api.tvmaze.com/episodes/385429\\\\\n",
       "\t 385430 & http://www.tvmaze.com/episodes/385430/sesame-street-1x04-episode-4  & Episode 4  & 1 &  4 & regular & 1969-11-13 & 07:00 & 1969-11-13T12:00:00+00:00 & 60 &  & NA & NA & http://api.tvmaze.com/episodes/385430\\\\\n",
       "\t 385431 & http://www.tvmaze.com/episodes/385431/sesame-street-1x05-episode-5  & Episode 5  & 1 &  5 & regular & 1969-11-14 & 07:00 & 1969-11-14T12:00:00+00:00 & 60 &  & NA & NA & http://api.tvmaze.com/episodes/385431\\\\\n",
       "\t 385432 & http://www.tvmaze.com/episodes/385432/sesame-street-1x06-episode-6  & Episode 6  & 1 &  6 & regular & 1969-11-17 & 07:00 & 1969-11-17T12:00:00+00:00 & 60 &  & NA & NA & http://api.tvmaze.com/episodes/385432\\\\\n",
       "\t 385433 & http://www.tvmaze.com/episodes/385433/sesame-street-1x07-episode-7  & Episode 7  & 1 &  7 & regular & 1969-11-18 & 07:00 & 1969-11-18T12:00:00+00:00 & 60 &  & NA & NA & http://api.tvmaze.com/episodes/385433\\\\\n",
       "\t 385434 & http://www.tvmaze.com/episodes/385434/sesame-street-1x08-episode-8  & Episode 8  & 1 &  8 & regular & 1969-11-19 & 07:00 & 1969-11-19T12:00:00+00:00 & 60 &  & NA & NA & http://api.tvmaze.com/episodes/385434\\\\\n",
       "\t 385435 & http://www.tvmaze.com/episodes/385435/sesame-street-1x09-episode-9  & Episode 9  & 1 &  9 & regular & 1969-11-20 & 07:00 & 1969-11-20T12:00:00+00:00 & 60 &  & NA & NA & http://api.tvmaze.com/episodes/385435\\\\\n",
       "\t 385436 & http://www.tvmaze.com/episodes/385436/sesame-street-1x10-episode-10 & Episode 10 & 1 & 10 & regular & 1969-11-21 & 07:00 & 1969-11-21T12:00:00+00:00 & 60 &  & NA & NA & http://api.tvmaze.com/episodes/385436\\\\\n",
       "\\end{tabular}\n"
      ],
      "text/markdown": [
       "\n",
       "A tibble: 10 × 14\n",
       "\n",
       "| id &lt;int&gt; | url &lt;chr&gt; | name &lt;chr&gt; | season &lt;int&gt; | number &lt;int&gt; | type &lt;chr&gt; | airdate &lt;chr&gt; | airtime &lt;chr&gt; | airstamp &lt;chr&gt; | runtime &lt;int&gt; | summary &lt;chr&gt; | image_medium &lt;chr&gt; | image_original &lt;chr&gt; | links_self_href &lt;chr&gt; |\n",
       "|---|---|---|---|---|---|---|---|---|---|---|---|---|---|\n",
       "| 385427 | http://www.tvmaze.com/episodes/385427/sesame-street-1x01-episode-1  | Episode 1  | 1 |  1 | regular | 1969-11-10 | 07:00 | 1969-11-10T12:00:00+00:00 | 60 | <!----> | NA | NA | http://api.tvmaze.com/episodes/385427 |\n",
       "| 385428 | http://www.tvmaze.com/episodes/385428/sesame-street-1x02-episode-2  | Episode 2  | 1 |  2 | regular | 1969-11-11 | 07:00 | 1969-11-11T12:00:00+00:00 | 60 | <!----> | NA | NA | http://api.tvmaze.com/episodes/385428 |\n",
       "| 385429 | http://www.tvmaze.com/episodes/385429/sesame-street-1x03-episode-3  | Episode 3  | 1 |  3 | regular | 1969-11-12 | 07:00 | 1969-11-12T12:00:00+00:00 | 60 | <!----> | NA | NA | http://api.tvmaze.com/episodes/385429 |\n",
       "| 385430 | http://www.tvmaze.com/episodes/385430/sesame-street-1x04-episode-4  | Episode 4  | 1 |  4 | regular | 1969-11-13 | 07:00 | 1969-11-13T12:00:00+00:00 | 60 | <!----> | NA | NA | http://api.tvmaze.com/episodes/385430 |\n",
       "| 385431 | http://www.tvmaze.com/episodes/385431/sesame-street-1x05-episode-5  | Episode 5  | 1 |  5 | regular | 1969-11-14 | 07:00 | 1969-11-14T12:00:00+00:00 | 60 | <!----> | NA | NA | http://api.tvmaze.com/episodes/385431 |\n",
       "| 385432 | http://www.tvmaze.com/episodes/385432/sesame-street-1x06-episode-6  | Episode 6  | 1 |  6 | regular | 1969-11-17 | 07:00 | 1969-11-17T12:00:00+00:00 | 60 | <!----> | NA | NA | http://api.tvmaze.com/episodes/385432 |\n",
       "| 385433 | http://www.tvmaze.com/episodes/385433/sesame-street-1x07-episode-7  | Episode 7  | 1 |  7 | regular | 1969-11-18 | 07:00 | 1969-11-18T12:00:00+00:00 | 60 | <!----> | NA | NA | http://api.tvmaze.com/episodes/385433 |\n",
       "| 385434 | http://www.tvmaze.com/episodes/385434/sesame-street-1x08-episode-8  | Episode 8  | 1 |  8 | regular | 1969-11-19 | 07:00 | 1969-11-19T12:00:00+00:00 | 60 | <!----> | NA | NA | http://api.tvmaze.com/episodes/385434 |\n",
       "| 385435 | http://www.tvmaze.com/episodes/385435/sesame-street-1x09-episode-9  | Episode 9  | 1 |  9 | regular | 1969-11-20 | 07:00 | 1969-11-20T12:00:00+00:00 | 60 | <!----> | NA | NA | http://api.tvmaze.com/episodes/385435 |\n",
       "| 385436 | http://www.tvmaze.com/episodes/385436/sesame-street-1x10-episode-10 | Episode 10 | 1 | 10 | regular | 1969-11-21 | 07:00 | 1969-11-21T12:00:00+00:00 | 60 | <!----> | NA | NA | http://api.tvmaze.com/episodes/385436 |\n",
       "\n"
      ],
      "text/plain": [
       "   id     url                                                                \n",
       "1  385427 http://www.tvmaze.com/episodes/385427/sesame-street-1x01-episode-1 \n",
       "2  385428 http://www.tvmaze.com/episodes/385428/sesame-street-1x02-episode-2 \n",
       "3  385429 http://www.tvmaze.com/episodes/385429/sesame-street-1x03-episode-3 \n",
       "4  385430 http://www.tvmaze.com/episodes/385430/sesame-street-1x04-episode-4 \n",
       "5  385431 http://www.tvmaze.com/episodes/385431/sesame-street-1x05-episode-5 \n",
       "6  385432 http://www.tvmaze.com/episodes/385432/sesame-street-1x06-episode-6 \n",
       "7  385433 http://www.tvmaze.com/episodes/385433/sesame-street-1x07-episode-7 \n",
       "8  385434 http://www.tvmaze.com/episodes/385434/sesame-street-1x08-episode-8 \n",
       "9  385435 http://www.tvmaze.com/episodes/385435/sesame-street-1x09-episode-9 \n",
       "10 385436 http://www.tvmaze.com/episodes/385436/sesame-street-1x10-episode-10\n",
       "   name       season number type    airdate    airtime\n",
       "1  Episode 1  1       1     regular 1969-11-10 07:00  \n",
       "2  Episode 2  1       2     regular 1969-11-11 07:00  \n",
       "3  Episode 3  1       3     regular 1969-11-12 07:00  \n",
       "4  Episode 4  1       4     regular 1969-11-13 07:00  \n",
       "5  Episode 5  1       5     regular 1969-11-14 07:00  \n",
       "6  Episode 6  1       6     regular 1969-11-17 07:00  \n",
       "7  Episode 7  1       7     regular 1969-11-18 07:00  \n",
       "8  Episode 8  1       8     regular 1969-11-19 07:00  \n",
       "9  Episode 9  1       9     regular 1969-11-20 07:00  \n",
       "10 Episode 10 1      10     regular 1969-11-21 07:00  \n",
       "   airstamp                  runtime summary image_medium image_original\n",
       "1  1969-11-10T12:00:00+00:00 60              NA           NA            \n",
       "2  1969-11-11T12:00:00+00:00 60              NA           NA            \n",
       "3  1969-11-12T12:00:00+00:00 60              NA           NA            \n",
       "4  1969-11-13T12:00:00+00:00 60              NA           NA            \n",
       "5  1969-11-14T12:00:00+00:00 60              NA           NA            \n",
       "6  1969-11-17T12:00:00+00:00 60              NA           NA            \n",
       "7  1969-11-18T12:00:00+00:00 60              NA           NA            \n",
       "8  1969-11-19T12:00:00+00:00 60              NA           NA            \n",
       "9  1969-11-20T12:00:00+00:00 60              NA           NA            \n",
       "10 1969-11-21T12:00:00+00:00 60              NA           NA            \n",
       "   links_self_href                      \n",
       "1  http://api.tvmaze.com/episodes/385427\n",
       "2  http://api.tvmaze.com/episodes/385428\n",
       "3  http://api.tvmaze.com/episodes/385429\n",
       "4  http://api.tvmaze.com/episodes/385430\n",
       "5  http://api.tvmaze.com/episodes/385431\n",
       "6  http://api.tvmaze.com/episodes/385432\n",
       "7  http://api.tvmaze.com/episodes/385433\n",
       "8  http://api.tvmaze.com/episodes/385434\n",
       "9  http://api.tvmaze.com/episodes/385435\n",
       "10 http://api.tvmaze.com/episodes/385436"
      ]
     },
     "metadata": {},
     "output_type": "display_data"
    }
   ],
   "source": [
    "# Ihr Code hier!\n",
    "# GET-Request mit httr\n",
    "response_sesame <- GET(url = \"http://api.tvmaze.com/\",\n",
    "                    path = \"shows/6544/episodes\",\n",
    "                    query = list(\n",
    "                      all = 1\n",
    "                    ))\n",
    "\n",
    "# Mit jsonlite in einen Tibble umwandeln\n",
    "df_sesame <- content(response_sesame, as = \"text\") %>%\n",
    "      fromJSON(flatten = TRUE) %>%\n",
    "      as_tibble(.name_repair = janitor::make_clean_names) \n",
    "\n",
    "# Anzahl der Fälle ausgeben\n",
    "print(str_c(\"Der Datensatz hat \", nrow(df_sesame), \" Einträge.\"))\n",
    "\n",
    "# Ergebnisdatensatz anzeigen\n",
    "head(df_sesame, 10)"
   ]
  }
 ],
 "metadata": {
  "kernelspec": {
   "display_name": "R",
   "language": "R",
   "name": "ir"
  },
  "language_info": {
   "codemirror_mode": "r",
   "file_extension": ".r",
   "mimetype": "text/x-r-source",
   "name": "R",
   "pygments_lexer": "r",
   "version": "4.0.3"
  },
  "toc": {
   "base_numbering": 1,
   "nav_menu": {},
   "number_sections": true
  }
 },
 "nbformat": 4,
 "nbformat_minor": 1
}